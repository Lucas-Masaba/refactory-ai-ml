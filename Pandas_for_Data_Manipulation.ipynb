{
  "cells": [
    {
      "cell_type": "markdown",
      "metadata": {
        "colab_type": "text",
        "id": "view-in-github"
      },
      "source": [
        "<a href=\"https://colab.research.google.com/github/Lucas-Masaba/refactory-ai-ml/blob/main/Pandas_for_Data_Manipulation.ipynb\" target=\"_parent\"><img src=\"https://colab.research.google.com/assets/colab-badge.svg\" alt=\"Open In Colab\"/></a>"
      ]
    },
    {
      "cell_type": "markdown",
      "metadata": {
        "id": "hOWGoJo1UNkR"
      },
      "source": [
        "# What do you undertsand by the term Manipulation?\n",
        "\n",
        "\n",
        "*   Type here\n",
        "*   \n",
        "*   \n",
        "*   \n",
        "\n",
        "\n"
      ]
    },
    {
      "cell_type": "markdown",
      "metadata": {
        "id": "RGWckvtFVFg2"
      },
      "source": [
        "## What is Pandas?  \n",
        "Pandas is a Python library used for working with data sets.\n",
        "\n",
        "It has functions for analyzing, cleaning, exploring, and manipulating data.\n",
        "\n",
        "The name \"Pandas\" has a reference to both \"Panel Data\", and \"Python Data Analysis\" and was created by Wes McKinney in 2008.\n",
        "\n",
        "Source: [W3Schools](https://www.w3schools.com/python/pandas/pandas_intro.asp)\n",
        "\n",
        "\n",
        "As a data scientist, you will use pandas as one of the most popular libraries for working with data.\n"
      ]
    },
    {
      "cell_type": "markdown",
      "metadata": {
        "id": "dVQ9kvmVVLQB"
      },
      "source": [
        "**Panda's New Data Types**\n",
        "\n",
        "Pandas has 2 main types of collections that we will be working with: Series and DataFrames.\n",
        "\n",
        "1. Series are used for 1-dimensional data.\n",
        "2. DataFrames are used for 2-dimensional data.  \n",
        "\n",
        "(Note that \"DataFrame\" is also commonly written in text with lowercase letters as \"dataframe.\" We will use both interchangeably in the text. In code, however, you must use capital letters.)\n",
        "\n",
        "We will usually be working with 2-dimensional data, so let's dive into DataFrames first."
      ]
    },
    {
      "cell_type": "markdown",
      "metadata": {
        "id": "kbQFrQdEVwOV"
      },
      "source": [
        "<img src=\"https://assets.codingdojo.com/boomyeah2015/codingdojo/curriculum/content/chapter/1679528098__bake-sale-spreadsheet-1.png\">"
      ]
    },
    {
      "cell_type": "markdown",
      "metadata": {
        "id": "dVDAQwC2Vk6s"
      },
      "source": [
        "**Creating a DataFrame**  \n",
        "\n",
        "There are several different ways that we can create a dataframe.\n",
        "\n",
        "We shall start from lists, the easiest way to create the dataframe is to make a temporary dictionary with the column names we want to use as the keys and the list of data as the values."
      ]
    },
    {
      "cell_type": "code",
      "execution_count": null,
      "metadata": {
        "id": "hX2C1__nWS_G"
      },
      "outputs": [
        {
          "ename": "",
          "evalue": "",
          "output_type": "error",
          "traceback": [
            "\u001b[1;31mRunning cells with 'env' requires the ipykernel package.\n",
            "\u001b[1;31mRun the following command to install 'ipykernel' into the Python environment. \n",
            "\u001b[1;31mCommand: '/home/lucas/lucas_folder/backup/AI-ML/statistical-programming/env/bin/python -m pip install ipykernel -U --force-reinstall'"
          ]
        }
      ],
      "source": [
        "# Creating the lists\n",
        "names_list = ['brownie','cookie','cake', 'cupcake']\n",
        "prices_list = [2.25,1.25,9.5, 3.5]\n",
        "quantities_sold_list = [17, 40, 1, 10]"
      ]
    },
    {
      "cell_type": "code",
      "execution_count": null,
      "metadata": {
        "id": "Ac1oaeWwnn7H"
      },
      "outputs": [
        {
          "ename": "",
          "evalue": "",
          "output_type": "error",
          "traceback": [
            "\u001b[1;31mRunning cells with 'env' requires the ipykernel package.\n",
            "\u001b[1;31mRun the following command to install 'ipykernel' into the Python environment. \n",
            "\u001b[1;31mCommand: '/home/lucas/lucas_folder/backup/AI-ML/statistical-programming/env/bin/python -m pip install ipykernel -U --force-reinstall'"
          ]
        }
      ],
      "source": [
        "# One way of storing our data\n",
        "shop_records = {'Name':names_list,\n",
        "                'Price':prices_list,\n",
        "                \"Quantity Sold\": quantities_sold_list}"
      ]
    },
    {
      "cell_type": "code",
      "execution_count": null,
      "metadata": {
        "colab": {
          "base_uri": "https://localhost:8080/"
        },
        "id": "Gt-aORRSoQ_g",
        "outputId": "41c308b0-9fab-46cb-ffeb-1382f3524a0e"
      },
      "outputs": [
        {
          "ename": "",
          "evalue": "",
          "output_type": "error",
          "traceback": [
            "\u001b[1;31mRunning cells with 'env' requires the ipykernel package.\n",
            "\u001b[1;31mRun the following command to install 'ipykernel' into the Python environment. \n",
            "\u001b[1;31mCommand: '/home/lucas/lucas_folder/backup/AI-ML/statistical-programming/env/bin/python -m pip install ipykernel -U --force-reinstall'"
          ]
        }
      ],
      "source": [
        "shop_records"
      ]
    },
    {
      "cell_type": "code",
      "execution_count": null,
      "metadata": {
        "id": "QJaQ43qhWnKu"
      },
      "outputs": [
        {
          "ename": "",
          "evalue": "",
          "output_type": "error",
          "traceback": [
            "\u001b[1;31mRunning cells with 'env' requires the ipykernel package.\n",
            "\u001b[1;31mRun the following command to install 'ipykernel' into the Python environment. \n",
            "\u001b[1;31mCommand: '/home/lucas/lucas_folder/backup/AI-ML/statistical-programming/env/bin/python -m pip install ipykernel -U --force-reinstall'"
          ]
        }
      ],
      "source": [
        "# import pandas library\n",
        "import pandas as pd"
      ]
    },
    {
      "cell_type": "code",
      "execution_count": null,
      "metadata": {
        "colab": {
          "base_uri": "https://localhost:8080/",
          "height": 174
        },
        "id": "GRip6J4_WfQP",
        "outputId": "919334e8-f98a-49e8-9fca-f7e918be397c"
      },
      "outputs": [
        {
          "ename": "",
          "evalue": "",
          "output_type": "error",
          "traceback": [
            "\u001b[1;31mRunning cells with 'env' requires the ipykernel package.\n",
            "\u001b[1;31mRun the following command to install 'ipykernel' into the Python environment. \n",
            "\u001b[1;31mCommand: '/home/lucas/lucas_folder/backup/AI-ML/statistical-programming/env/bin/python -m pip install ipykernel -U --force-reinstall'"
          ]
        }
      ],
      "source": [
        "# Make a dataframe from a dictionary\n",
        "shop_df = pd.DataFrame(shop_records)\n",
        "shop_df\n"
      ]
    },
    {
      "cell_type": "markdown",
      "metadata": {
        "id": "5mtby9-YWy1K"
      },
      "source": [
        "**Anatomy of a DataFrame**  \n",
        "\n",
        "The DataFrame is comprised of 3 primary components:\n",
        "\n",
        "* the column names in bold font in the top row.\n",
        "* the original raw data values are stored in the grid in the center.\n",
        "* an index for each row in bold on the left.\n",
        "We can access these 3 components as attributes for our DataFrame.\n",
        "\n",
        "An attribute is a variable that is stored within another object. We access attributes using dot notation, similar to how we use a function stored inside a package. We do not use parenthesis when accessing an attribute.\n",
        "\n",
        "You can access the three primary components of a dataframe individually using the following code:"
      ]
    },
    {
      "cell_type": "code",
      "execution_count": null,
      "metadata": {
        "colab": {
          "base_uri": "https://localhost:8080/"
        },
        "id": "nBUeBOfHXEoV",
        "outputId": "a501f196-08fe-450a-82a0-2bb9e3146a9a"
      },
      "outputs": [
        {
          "ename": "",
          "evalue": "",
          "output_type": "error",
          "traceback": [
            "\u001b[1;31mRunning cells with 'env' requires the ipykernel package.\n",
            "\u001b[1;31mRun the following command to install 'ipykernel' into the Python environment. \n",
            "\u001b[1;31mCommand: '/home/lucas/lucas_folder/backup/AI-ML/statistical-programming/env/bin/python -m pip install ipykernel -U --force-reinstall'"
          ]
        }
      ],
      "source": [
        "# a special list with the names of each column\n",
        "shop_df.columns"
      ]
    },
    {
      "cell_type": "code",
      "execution_count": null,
      "metadata": {
        "colab": {
          "base_uri": "https://localhost:8080/"
        },
        "id": "-f30w3NvXKaZ",
        "outputId": "7dc97bd7-4259-4d05-b2dc-78506a373ddb"
      },
      "outputs": [
        {
          "ename": "",
          "evalue": "",
          "output_type": "error",
          "traceback": [
            "\u001b[1;31mRunning cells with 'env' requires the ipykernel package.\n",
            "\u001b[1;31mRun the following command to install 'ipykernel' into the Python environment. \n",
            "\u001b[1;31mCommand: '/home/lucas/lucas_folder/backup/AI-ML/statistical-programming/env/bin/python -m pip install ipykernel -U --force-reinstall'"
          ]
        }
      ],
      "source": [
        "# the raw data in a numpy array\n",
        "shop_df.values"
      ]
    },
    {
      "cell_type": "code",
      "execution_count": null,
      "metadata": {
        "colab": {
          "base_uri": "https://localhost:8080/"
        },
        "id": "uWXB2qGFXYzv",
        "outputId": "1b6fde32-a784-47e4-bdfe-1a10acd40e73"
      },
      "outputs": [
        {
          "ename": "",
          "evalue": "",
          "output_type": "error",
          "traceback": [
            "\u001b[1;31mRunning cells with 'env' requires the ipykernel package.\n",
            "\u001b[1;31mRun the following command to install 'ipykernel' into the Python environment. \n",
            "\u001b[1;31mCommand: '/home/lucas/lucas_folder/backup/AI-ML/statistical-programming/env/bin/python -m pip install ipykernel -U --force-reinstall'"
          ]
        }
      ],
      "source": [
        "# a special list with the row names (index)\n",
        "shop_df.index"
      ]
    },
    {
      "cell_type": "markdown",
      "metadata": {
        "id": "3EqcgqjeXmiR"
      },
      "source": [
        "### Loading Data with Pandas\n",
        "\n",
        "We shall use the [Boston Housing Dataset](https://www.cs.toronto.edu/~delve/data/boston/bostonDetail.html).   \n",
        "A [modified version](https://github.com/selva86/datasets/blob/master/BostonHousing.csv) can be found here"
      ]
    },
    {
      "cell_type": "code",
      "execution_count": null,
      "metadata": {
        "colab": {
          "base_uri": "https://localhost:8080/"
        },
        "id": "0o-XVZAJVJe2",
        "outputId": "c6cbf2b4-e3cd-4d0e-9d8c-7a3deb11179f"
      },
      "outputs": [
        {
          "ename": "",
          "evalue": "",
          "output_type": "error",
          "traceback": [
            "\u001b[1;31mRunning cells with 'env' requires the ipykernel package.\n",
            "\u001b[1;31mRun the following command to install 'ipykernel' into the Python environment. \n",
            "\u001b[1;31mCommand: '/home/lucas/lucas_folder/backup/AI-ML/statistical-programming/env/bin/python -m pip install ipykernel -U --force-reinstall'"
          ]
        }
      ],
      "source": [
        "# Loading data from google drive\n",
        "# Mount your drive\n",
        "from google.colab import drive\n",
        "drive.mount('/content/drive')"
      ]
    },
    {
      "cell_type": "code",
      "execution_count": null,
      "metadata": {
        "id": "kQ60KJsnY5Fb"
      },
      "outputs": [
        {
          "ename": "",
          "evalue": "",
          "output_type": "error",
          "traceback": [
            "\u001b[1;31mRunning cells with 'env' requires the ipykernel package.\n",
            "\u001b[1;31mRun the following command to install 'ipykernel' into the Python environment. \n",
            "\u001b[1;31mCommand: '/home/lucas/lucas_folder/backup/AI-ML/statistical-programming/env/bin/python -m pip install ipykernel -U --force-reinstall'"
          ]
        }
      ],
      "source": [
        "# Loading Data\n",
        "# filename = \"bostonHousing1978 (1).csv\"\n",
        "filename=\"https://raw.githubusercontent.com/selva86/datasets/master/BostonHousing.csv\"\n",
        "df = pd.read_csv(filename)\n",
        "# pd.rea_csv(\"/content/drive/MyDrive/test_images/bostonHousing1978.csv\")"
      ]
    },
    {
      "cell_type": "code",
      "execution_count": null,
      "metadata": {
        "colab": {
          "base_uri": "https://localhost:8080/"
        },
        "id": "xjkB4VK2Xm5T",
        "outputId": "27e2c323-360d-4547-d542-2b5fb3464237"
      },
      "outputs": [
        {
          "ename": "",
          "evalue": "",
          "output_type": "error",
          "traceback": [
            "\u001b[1;31mRunning cells with 'env' requires the ipykernel package.\n",
            "\u001b[1;31mRun the following command to install 'ipykernel' into the Python environment. \n",
            "\u001b[1;31mCommand: '/home/lucas/lucas_folder/backup/AI-ML/statistical-programming/env/bin/python -m pip install ipykernel -U --force-reinstall'"
          ]
        }
      ],
      "source": [
        "# print(filename)\n",
        "type(df)"
      ]
    },
    {
      "cell_type": "code",
      "execution_count": null,
      "metadata": {
        "colab": {
          "base_uri": "https://localhost:8080/",
          "height": 423
        },
        "id": "NuBQcSJCayAV",
        "outputId": "aef565a8-eb89-4d13-ccde-9a4bd773f5c2"
      },
      "outputs": [
        {
          "ename": "",
          "evalue": "",
          "output_type": "error",
          "traceback": [
            "\u001b[1;31mRunning cells with 'env' requires the ipykernel package.\n",
            "\u001b[1;31mRun the following command to install 'ipykernel' into the Python environment. \n",
            "\u001b[1;31mCommand: '/home/lucas/lucas_folder/backup/AI-ML/statistical-programming/env/bin/python -m pip install ipykernel -U --force-reinstall'"
          ]
        }
      ],
      "source": [
        "# What is stored in df\n",
        "df"
      ]
    },
    {
      "cell_type": "markdown",
      "metadata": {
        "id": "3Muvsk9Aa_Hi"
      },
      "source": [
        "We can see that pandas shows us a visual tabular perspective of the data. Here df is a dataframe containing the data organized by column and rows"
      ]
    },
    {
      "cell_type": "markdown",
      "metadata": {
        "id": "GtnejIRtc1_N"
      },
      "source": [
        "### Basic operations"
      ]
    },
    {
      "cell_type": "markdown",
      "metadata": {
        "id": "-B8Q6_Q5bhvr"
      },
      "source": [
        "Let's explore some of the basic methods and attributes of a dataframe that you will commonly use."
      ]
    },
    {
      "cell_type": "code",
      "execution_count": null,
      "metadata": {
        "colab": {
          "base_uri": "https://localhost:8080/",
          "height": 206
        },
        "id": "X_ejl3lza91C",
        "outputId": "0be18606-6182-4c95-e774-f00b6cd163bc"
      },
      "outputs": [
        {
          "ename": "",
          "evalue": "",
          "output_type": "error",
          "traceback": [
            "\u001b[1;31mRunning cells with 'env' requires the ipykernel package.\n",
            "\u001b[1;31mRun the following command to install 'ipykernel' into the Python environment. \n",
            "\u001b[1;31mCommand: '/home/lucas/lucas_folder/backup/AI-ML/statistical-programming/env/bin/python -m pip install ipykernel -U --force-reinstall'"
          ]
        }
      ],
      "source": [
        "# Showing the first and last rows usinf the dataframe.head() method.\n",
        "# By default this shows the first 5 rows in the dataframe\n",
        "df.head()"
      ]
    },
    {
      "cell_type": "code",
      "execution_count": null,
      "metadata": {
        "id": "-1yvawGAa4Lg"
      },
      "outputs": [
        {
          "ename": "",
          "evalue": "",
          "output_type": "error",
          "traceback": [
            "\u001b[1;31mRunning cells with 'env' requires the ipykernel package.\n",
            "\u001b[1;31mRun the following command to install 'ipykernel' into the Python environment. \n",
            "\u001b[1;31mCommand: '/home/lucas/lucas_folder/backup/AI-ML/statistical-programming/env/bin/python -m pip install ipykernel -U --force-reinstall'"
          ]
        }
      ],
      "source": [
        "# We can also pass a parameter for the number of rows we want to show\n",
        "# In the example below it will show the first 3 rows\n",
        "df.head(3)"
      ]
    },
    {
      "cell_type": "code",
      "execution_count": null,
      "metadata": {
        "id": "G_l0-A5IcSlV"
      },
      "outputs": [
        {
          "ename": "",
          "evalue": "",
          "output_type": "error",
          "traceback": [
            "\u001b[1;31mRunning cells with 'env' requires the ipykernel package.\n",
            "\u001b[1;31mRun the following command to install 'ipykernel' into the Python environment. \n",
            "\u001b[1;31mCommand: '/home/lucas/lucas_folder/backup/AI-ML/statistical-programming/env/bin/python -m pip install ipykernel -U --force-reinstall'"
          ]
        }
      ],
      "source": [
        "# Showing the last 5 rows with dataframe.tail() method.\n",
        "df.tail()"
      ]
    },
    {
      "cell_type": "code",
      "execution_count": null,
      "metadata": {
        "id": "Y9cmMRbocc34"
      },
      "outputs": [
        {
          "ename": "",
          "evalue": "",
          "output_type": "error",
          "traceback": [
            "\u001b[1;31mRunning cells with 'env' requires the ipykernel package.\n",
            "\u001b[1;31mRun the following command to install 'ipykernel' into the Python environment. \n",
            "\u001b[1;31mCommand: '/home/lucas/lucas_folder/backup/AI-ML/statistical-programming/env/bin/python -m pip install ipykernel -U --force-reinstall'"
          ]
        }
      ],
      "source": [
        "# How can we show the last 3 rows?\n",
        "# Write your code here\n",
        "df.tail(3)"
      ]
    },
    {
      "cell_type": "code",
      "execution_count": null,
      "metadata": {
        "id": "Q8De42HIchGf"
      },
      "outputs": [
        {
          "ename": "",
          "evalue": "",
          "output_type": "error",
          "traceback": [
            "\u001b[1;31mRunning cells with 'env' requires the ipykernel package.\n",
            "\u001b[1;31mRun the following command to install 'ipykernel' into the Python environment. \n",
            "\u001b[1;31mCommand: '/home/lucas/lucas_folder/backup/AI-ML/statistical-programming/env/bin/python -m pip install ipykernel -U --force-reinstall'"
          ]
        }
      ],
      "source": [
        "# Getting information about the dataframe using the .info() method\n",
        "# This shows the number of rows each column, the data type of the data and the number of non-null values in each column.\n",
        "df.info()"
      ]
    },
    {
      "cell_type": "code",
      "execution_count": null,
      "metadata": {
        "id": "4ROlco47dBsn"
      },
      "outputs": [
        {
          "ename": "",
          "evalue": "",
          "output_type": "error",
          "traceback": [
            "\u001b[1;31mRunning cells with 'env' requires the ipykernel package.\n",
            "\u001b[1;31mRun the following command to install 'ipykernel' into the Python environment. \n",
            "\u001b[1;31mCommand: '/home/lucas/lucas_folder/backup/AI-ML/statistical-programming/env/bin/python -m pip install ipykernel -U --force-reinstall'"
          ]
        }
      ],
      "source": [
        "# Some of the common attributes are:\n",
        "df.shape\n",
        "# This returns a tuple of (number of rows, number of columns)"
      ]
    },
    {
      "cell_type": "code",
      "execution_count": null,
      "metadata": {
        "id": "3JpZjfmFdjkI"
      },
      "outputs": [
        {
          "ename": "",
          "evalue": "",
          "output_type": "error",
          "traceback": [
            "\u001b[1;31mRunning cells with 'env' requires the ipykernel package.\n",
            "\u001b[1;31mRun the following command to install 'ipykernel' into the Python environment. \n",
            "\u001b[1;31mCommand: '/home/lucas/lucas_folder/backup/AI-ML/statistical-programming/env/bin/python -m pip install ipykernel -U --force-reinstall'"
          ]
        }
      ],
      "source": [
        "df.dtypes\n",
        "# This shows the datatypes of each column"
      ]
    },
    {
      "cell_type": "code",
      "execution_count": null,
      "metadata": {
        "id": "xxbUTiZX43hB"
      },
      "outputs": [
        {
          "ename": "",
          "evalue": "",
          "output_type": "error",
          "traceback": [
            "\u001b[1;31mRunning cells with 'env' requires the ipykernel package.\n",
            "\u001b[1;31mRun the following command to install 'ipykernel' into the Python environment. \n",
            "\u001b[1;31mCommand: '/home/lucas/lucas_folder/backup/AI-ML/statistical-programming/env/bin/python -m pip install ipykernel -U --force-reinstall'"
          ]
        }
      ],
      "source": [
        "# Column names\n",
        "df.columns"
      ]
    },
    {
      "cell_type": "markdown",
      "metadata": {
        "id": "fGL9U4bJd-or"
      },
      "source": [
        "Note on series and dataframes.  \n",
        "\n",
        "A Pandas **Series** is like a column in a table. It is a one-dimensional array holding data of any type.  \n",
        "\n",
        "A Pandas **DataFrame** is a 2 dimensional data structure, like a 2 dimensional array, or a table with rows and columns. A Dataframe is made up of series."
      ]
    },
    {
      "cell_type": "markdown",
      "metadata": {
        "id": "61IGyHH5em3E"
      },
      "source": [
        "### Slicing\n",
        "As seen earlier with lists, slicing is a common operation that will be undertaken to get part of the data."
      ]
    },
    {
      "cell_type": "markdown",
      "metadata": {
        "id": "9IcAwmYEfHDU"
      },
      "source": [
        "**Select columns using brackets**"
      ]
    },
    {
      "cell_type": "code",
      "execution_count": null,
      "metadata": {
        "id": "jQTaAmgedwn_"
      },
      "outputs": [
        {
          "ename": "",
          "evalue": "",
          "output_type": "error",
          "traceback": [
            "\u001b[1;31mRunning cells with 'env' requires the ipykernel package.\n",
            "\u001b[1;31mRun the following command to install 'ipykernel' into the Python environment. \n",
            "\u001b[1;31mCommand: '/home/lucas/lucas_folder/backup/AI-ML/statistical-programming/env/bin/python -m pip install ipykernel -U --force-reinstall'"
          ]
        }
      ],
      "source": [
        "# We can slice a column using square brackets like this.\n",
        "# The general notation is dataframe[<column name>]\n",
        "# First how can we view our column names.\n",
        "# df.columns\n",
        "df.head(2)"
      ]
    },
    {
      "cell_type": "code",
      "execution_count": null,
      "metadata": {
        "id": "9SIpJT31f7dC"
      },
      "outputs": [
        {
          "ename": "",
          "evalue": "",
          "output_type": "error",
          "traceback": [
            "\u001b[1;31mRunning cells with 'env' requires the ipykernel package.\n",
            "\u001b[1;31mRun the following command to install 'ipykernel' into the Python environment. \n",
            "\u001b[1;31mCommand: '/home/lucas/lucas_folder/backup/AI-ML/statistical-programming/env/bin/python -m pip install ipykernel -U --force-reinstall'"
          ]
        }
      ],
      "source": [
        "# Let us pick the RM column\n",
        "df['rm']\n",
        "# Please note that the column names are strings, thats why we use quotes.\n",
        "# We can also use double quotes"
      ]
    },
    {
      "cell_type": "code",
      "execution_count": null,
      "metadata": {
        "id": "5UKeBnlYgSzf"
      },
      "outputs": [
        {
          "ename": "",
          "evalue": "",
          "output_type": "error",
          "traceback": [
            "\u001b[1;31mRunning cells with 'env' requires the ipykernel package.\n",
            "\u001b[1;31mRun the following command to install 'ipykernel' into the Python environment. \n",
            "\u001b[1;31mCommand: '/home/lucas/lucas_folder/backup/AI-ML/statistical-programming/env/bin/python -m pip install ipykernel -U --force-reinstall'"
          ]
        }
      ],
      "source": [
        "# The above notation will return a series, we can verify this with the type function.\n",
        "type(df['rm'])"
      ]
    },
    {
      "cell_type": "code",
      "execution_count": null,
      "metadata": {
        "id": "Mco-fIIbgdK8"
      },
      "outputs": [
        {
          "ename": "",
          "evalue": "",
          "output_type": "error",
          "traceback": [
            "\u001b[1;31mRunning cells with 'env' requires the ipykernel package.\n",
            "\u001b[1;31mRun the following command to install 'ipykernel' into the Python environment. \n",
            "\u001b[1;31mCommand: '/home/lucas/lucas_folder/backup/AI-ML/statistical-programming/env/bin/python -m pip install ipykernel -U --force-reinstall'"
          ]
        }
      ],
      "source": [
        "# To return a dataframe, we use double square brackets i.e.\n",
        "# dataframe[[<column name>]] e.g\n",
        "df[['rm']]"
      ]
    },
    {
      "cell_type": "code",
      "execution_count": null,
      "metadata": {
        "id": "KEI1RP1Pg3dU"
      },
      "outputs": [
        {
          "ename": "",
          "evalue": "",
          "output_type": "error",
          "traceback": [
            "\u001b[1;31mRunning cells with 'env' requires the ipykernel package.\n",
            "\u001b[1;31mRun the following command to install 'ipykernel' into the Python environment. \n",
            "\u001b[1;31mCommand: '/home/lucas/lucas_folder/backup/AI-ML/statistical-programming/env/bin/python -m pip install ipykernel -U --force-reinstall'"
          ]
        }
      ],
      "source": [
        "# We can verify this using the type function\n",
        "type(df[['rm']])"
      ]
    },
    {
      "cell_type": "markdown",
      "metadata": {
        "id": "KPcfPymshAAv"
      },
      "source": [
        "What visual differences have you observed between the sliced series and the sliced dataframe?"
      ]
    },
    {
      "cell_type": "code",
      "execution_count": null,
      "metadata": {
        "id": "6kdcl6RBeQw-"
      },
      "outputs": [
        {
          "ename": "",
          "evalue": "",
          "output_type": "error",
          "traceback": [
            "\u001b[1;31mRunning cells with 'env' requires the ipykernel package.\n",
            "\u001b[1;31mRun the following command to install 'ipykernel' into the Python environment. \n",
            "\u001b[1;31mCommand: '/home/lucas/lucas_folder/backup/AI-ML/statistical-programming/env/bin/python -m pip install ipykernel -U --force-reinstall'"
          ]
        }
      ],
      "source": [
        "# df['rm'].shape\n",
        "# df[['rm']].shape"
      ]
    },
    {
      "cell_type": "code",
      "execution_count": null,
      "metadata": {
        "id": "mPi6RXseg89j"
      },
      "outputs": [
        {
          "ename": "",
          "evalue": "",
          "output_type": "error",
          "traceback": [
            "\u001b[1;31mRunning cells with 'env' requires the ipykernel package.\n",
            "\u001b[1;31mRun the following command to install 'ipykernel' into the Python environment. \n",
            "\u001b[1;31mCommand: '/home/lucas/lucas_folder/backup/AI-ML/statistical-programming/env/bin/python -m pip install ipykernel -U --force-reinstall'"
          ]
        }
      ],
      "source": [
        "# We can also slice multiple columns. We only need to write the diffrent\n",
        "# column names separated by a comma (,) using the double brackets notation\n",
        "# i.e. dataframe[[<column name>, <column name>,...]] e.g\n",
        "df[['rm', 'lstat']]"
      ]
    },
    {
      "cell_type": "code",
      "execution_count": null,
      "metadata": {
        "id": "Z8GREf9hhqJW"
      },
      "outputs": [
        {
          "ename": "",
          "evalue": "",
          "output_type": "error",
          "traceback": [
            "\u001b[1;31mRunning cells with 'env' requires the ipykernel package.\n",
            "\u001b[1;31mRun the following command to install 'ipykernel' into the Python environment. \n",
            "\u001b[1;31mCommand: '/home/lucas/lucas_folder/backup/AI-ML/statistical-programming/env/bin/python -m pip install ipykernel -U --force-reinstall'"
          ]
        }
      ],
      "source": [
        "# This returns a dataframe\n",
        "type(df[['rm', 'lstat']])"
      ]
    },
    {
      "cell_type": "code",
      "execution_count": null,
      "metadata": {
        "id": "eqPPfUZQhyub"
      },
      "outputs": [
        {
          "ename": "",
          "evalue": "",
          "output_type": "error",
          "traceback": [
            "\u001b[1;31mRunning cells with 'env' requires the ipykernel package.\n",
            "\u001b[1;31mRun the following command to install 'ipykernel' into the Python environment. \n",
            "\u001b[1;31mCommand: '/home/lucas/lucas_folder/backup/AI-ML/statistical-programming/env/bin/python -m pip install ipykernel -U --force-reinstall'"
          ]
        }
      ],
      "source": [
        "# We can apply the dataframe/series methods and attributes to the sliced data e.g.\n",
        "df[['rm', 'lstat']].head(3)"
      ]
    },
    {
      "cell_type": "code",
      "execution_count": null,
      "metadata": {
        "id": "dlRvjC1Yh8co"
      },
      "outputs": [
        {
          "ename": "",
          "evalue": "",
          "output_type": "error",
          "traceback": [
            "\u001b[1;31mRunning cells with 'env' requires the ipykernel package.\n",
            "\u001b[1;31mRun the following command to install 'ipykernel' into the Python environment. \n",
            "\u001b[1;31mCommand: '/home/lucas/lucas_folder/backup/AI-ML/statistical-programming/env/bin/python -m pip install ipykernel -U --force-reinstall'"
          ]
        }
      ],
      "source": [
        "# or\n",
        "df['rm'].head(3)"
      ]
    },
    {
      "cell_type": "code",
      "execution_count": null,
      "metadata": {
        "id": "UZncgv5Ljy5T"
      },
      "outputs": [
        {
          "ename": "",
          "evalue": "",
          "output_type": "error",
          "traceback": [
            "\u001b[1;31mRunning cells with 'env' requires the ipykernel package.\n",
            "\u001b[1;31mRun the following command to install 'ipykernel' into the Python environment. \n",
            "\u001b[1;31mCommand: '/home/lucas/lucas_folder/backup/AI-ML/statistical-programming/env/bin/python -m pip install ipykernel -U --force-reinstall'"
          ]
        }
      ],
      "source": [
        "# We can also slice by column and then by row by adding square brackets and selecting a range of rows.\n",
        "df['rm'][0:5]\n",
        "# We use the notation dataframe[column_slice][row:slice]"
      ]
    },
    {
      "cell_type": "code",
      "execution_count": null,
      "metadata": {
        "id": "BnyB79nykG0S"
      },
      "outputs": [
        {
          "ename": "",
          "evalue": "",
          "output_type": "error",
          "traceback": [
            "\u001b[1;31mRunning cells with 'env' requires the ipykernel package.\n",
            "\u001b[1;31mRun the following command to install 'ipykernel' into the Python environment. \n",
            "\u001b[1;31mCommand: '/home/lucas/lucas_folder/backup/AI-ML/statistical-programming/env/bin/python -m pip install ipykernel -U --force-reinstall'"
          ]
        }
      ],
      "source": [
        "# Slicing by column and index\n",
        "# df[<column slice>][<row slice>]\n",
        "df[['rm', 'lstat']][120:121]"
      ]
    },
    {
      "cell_type": "code",
      "execution_count": null,
      "metadata": {
        "id": "q3BDtrIcfQoE"
      },
      "outputs": [
        {
          "ename": "",
          "evalue": "",
          "output_type": "error",
          "traceback": [
            "\u001b[1;31mRunning cells with 'env' requires the ipykernel package.\n",
            "\u001b[1;31mRun the following command to install 'ipykernel' into the Python environment. \n",
            "\u001b[1;31mCommand: '/home/lucas/lucas_folder/backup/AI-ML/statistical-programming/env/bin/python -m pip install ipykernel -U --force-reinstall'"
          ]
        }
      ],
      "source": [
        "# The row slicing is similar to list slicing so we can even use the step parameter.\n",
        "df[['rm', 'lstat']][200:212:3]"
      ]
    },
    {
      "cell_type": "code",
      "execution_count": null,
      "metadata": {
        "id": "ixFtxuo1kNL_"
      },
      "outputs": [
        {
          "ename": "",
          "evalue": "",
          "output_type": "error",
          "traceback": [
            "\u001b[1;31mRunning cells with 'env' requires the ipykernel package.\n",
            "\u001b[1;31mRun the following command to install 'ipykernel' into the Python environment. \n",
            "\u001b[1;31mCommand: '/home/lucas/lucas_folder/backup/AI-ML/statistical-programming/env/bin/python -m pip install ipykernel -U --force-reinstall'"
          ]
        }
      ],
      "source": [
        "# We can also slice only by index\n",
        "df[3:6]"
      ]
    },
    {
      "cell_type": "code",
      "execution_count": null,
      "metadata": {
        "id": "0-Wkx_4ARN13"
      },
      "outputs": [
        {
          "ename": "",
          "evalue": "",
          "output_type": "error",
          "traceback": [
            "\u001b[1;31mRunning cells with 'env' requires the ipykernel package.\n",
            "\u001b[1;31mRun the following command to install 'ipykernel' into the Python environment. \n",
            "\u001b[1;31mCommand: '/home/lucas/lucas_folder/backup/AI-ML/statistical-programming/env/bin/python -m pip install ipykernel -U --force-reinstall'"
          ]
        }
      ],
      "source": [
        "# Remember lists\n",
        "# my_list  = [1,2,3,4,5,6,7,8,9,10]\n",
        "# my_list[0:10:1]\n",
        "# my_list[0:10:2]"
      ]
    },
    {
      "cell_type": "code",
      "execution_count": null,
      "metadata": {
        "id": "UwHMnG5HkY0x"
      },
      "outputs": [
        {
          "ename": "",
          "evalue": "",
          "output_type": "error",
          "traceback": [
            "\u001b[1;31mRunning cells with 'env' requires the ipykernel package.\n",
            "\u001b[1;31mRun the following command to install 'ipykernel' into the Python environment. \n",
            "\u001b[1;31mCommand: '/home/lucas/lucas_folder/backup/AI-ML/statistical-programming/env/bin/python -m pip install ipykernel -U --force-reinstall'"
          ]
        }
      ],
      "source": [
        "# Slicing entire dataframe by index with step\n",
        "df[0:10:2]"
      ]
    },
    {
      "cell_type": "code",
      "execution_count": null,
      "metadata": {
        "id": "cXIXuo95iVN3"
      },
      "outputs": [
        {
          "ename": "",
          "evalue": "",
          "output_type": "error",
          "traceback": [
            "\u001b[1;31mRunning cells with 'env' requires the ipykernel package.\n",
            "\u001b[1;31mRun the following command to install 'ipykernel' into the Python environment. \n",
            "\u001b[1;31mCommand: '/home/lucas/lucas_folder/backup/AI-ML/statistical-programming/env/bin/python -m pip install ipykernel -U --force-reinstall'"
          ]
        }
      ],
      "source": [
        "# We can use the dot notation for slicing series, but it is not recommended e.g.\n",
        "df.rm\n",
        "# In this case, we do not use the quotes around the column name.\n",
        "# It is similar to using calling attributes."
      ]
    },
    {
      "cell_type": "code",
      "execution_count": null,
      "metadata": {
        "id": "XCHm_SFZihRN"
      },
      "outputs": [
        {
          "ename": "",
          "evalue": "",
          "output_type": "error",
          "traceback": [
            "\u001b[1;31mRunning cells with 'env' requires the ipykernel package.\n",
            "\u001b[1;31mRun the following command to install 'ipykernel' into the Python environment. \n",
            "\u001b[1;31mCommand: '/home/lucas/lucas_folder/backup/AI-ML/statistical-programming/env/bin/python -m pip install ipykernel -U --force-reinstall'"
          ]
        }
      ],
      "source": [
        "# We can check the type\n",
        "type(df.rm)"
      ]
    },
    {
      "cell_type": "code",
      "execution_count": null,
      "metadata": {
        "id": "rg0Z3T6Pioap"
      },
      "outputs": [
        {
          "ename": "",
          "evalue": "",
          "output_type": "error",
          "traceback": [
            "\u001b[1;31mRunning cells with 'env' requires the ipykernel package.\n",
            "\u001b[1;31mRun the following command to install 'ipykernel' into the Python environment. \n",
            "\u001b[1;31mCommand: '/home/lucas/lucas_folder/backup/AI-ML/statistical-programming/env/bin/python -m pip install ipykernel -U --force-reinstall'"
          ]
        }
      ],
      "source": [
        "# Question: How can we check if slice obtained from using the brackets notation\n",
        "# is the same as the slice obtained from using the dot notation. i.e.\n",
        "# Is df.RM the same as df['RM]\n",
        "# Hint: refer to comparison operators"
      ]
    },
    {
      "cell_type": "markdown",
      "metadata": {
        "id": "vQZzkJeX7eZP"
      },
      "source": [
        "**NOTE:** The dot notation has limitations e.g.\n",
        " - when the column name is the same as an inbuilt attribute\n",
        " - when there is a space in the column name"
      ]
    },
    {
      "cell_type": "markdown",
      "metadata": {
        "id": "mkqmsVybju6w"
      },
      "source": [
        "**Selecting columns using loc**  \n",
        "\n",
        "The loc attribute of a dataframe can be used to slice the dataframe.  \n",
        "The general notation is dataframe.loc[row/index_name/value or row slice, column_name/column slice].  \n",
        "Although loc is primarily label-based, it can also be used with a boolean array as we shall see later.\n",
        "\n"
      ]
    },
    {
      "cell_type": "code",
      "execution_count": null,
      "metadata": {
        "id": "cEJ1FWXClBe_"
      },
      "outputs": [
        {
          "ename": "",
          "evalue": "",
          "output_type": "error",
          "traceback": [
            "\u001b[1;31mRunning cells with 'env' requires the ipykernel package.\n",
            "\u001b[1;31mRun the following command to install 'ipykernel' into the Python environment. \n",
            "\u001b[1;31mCommand: '/home/lucas/lucas_folder/backup/AI-ML/statistical-programming/env/bin/python -m pip install ipykernel -U --force-reinstall'"
          ]
        }
      ],
      "source": [
        "# Slicing the RM series\n",
        "df.loc[:, 'rm']"
      ]
    },
    {
      "cell_type": "code",
      "execution_count": null,
      "metadata": {
        "id": "EXV1PXEsjYu_"
      },
      "outputs": [
        {
          "ename": "",
          "evalue": "",
          "output_type": "error",
          "traceback": [
            "\u001b[1;31mRunning cells with 'env' requires the ipykernel package.\n",
            "\u001b[1;31mRun the following command to install 'ipykernel' into the Python environment. \n",
            "\u001b[1;31mCommand: '/home/lucas/lucas_folder/backup/AI-ML/statistical-programming/env/bin/python -m pip install ipykernel -U --force-reinstall'"
          ]
        }
      ],
      "source": [
        "df.loc[2:5, ['rm', 'lstat']]"
      ]
    },
    {
      "cell_type": "code",
      "execution_count": null,
      "metadata": {
        "id": "M5RYdEGelD_h"
      },
      "outputs": [
        {
          "ename": "",
          "evalue": "",
          "output_type": "error",
          "traceback": [
            "\u001b[1;31mRunning cells with 'env' requires the ipykernel package.\n",
            "\u001b[1;31mRun the following command to install 'ipykernel' into the Python environment. \n",
            "\u001b[1;31mCommand: '/home/lucas/lucas_folder/backup/AI-ML/statistical-programming/env/bin/python -m pip install ipykernel -U --force-reinstall'"
          ]
        }
      ],
      "source": [
        "# Checking the type\n",
        "type(df.loc[:, 'rm'])"
      ]
    },
    {
      "cell_type": "code",
      "execution_count": null,
      "metadata": {
        "id": "aFNkV3tMlXrE"
      },
      "outputs": [
        {
          "ename": "",
          "evalue": "",
          "output_type": "error",
          "traceback": [
            "\u001b[1;31mRunning cells with 'env' requires the ipykernel package.\n",
            "\u001b[1;31mRun the following command to install 'ipykernel' into the Python environment. \n",
            "\u001b[1;31mCommand: '/home/lucas/lucas_folder/backup/AI-ML/statistical-programming/env/bin/python -m pip install ipykernel -U --force-reinstall'"
          ]
        }
      ],
      "source": [
        "# Getting a dataframe slice, remember we use doble brackets\n",
        "df.loc[:, ['rm']]"
      ]
    },
    {
      "cell_type": "code",
      "execution_count": null,
      "metadata": {
        "id": "Iyd1AUiClktw"
      },
      "outputs": [
        {
          "ename": "",
          "evalue": "",
          "output_type": "error",
          "traceback": [
            "\u001b[1;31mRunning cells with 'env' requires the ipykernel package.\n",
            "\u001b[1;31mRun the following command to install 'ipykernel' into the Python environment. \n",
            "\u001b[1;31mCommand: '/home/lucas/lucas_folder/backup/AI-ML/statistical-programming/env/bin/python -m pip install ipykernel -U --force-reinstall'"
          ]
        }
      ],
      "source": [
        "# Checking the type\n",
        "type(df.loc[:, ['rm']])"
      ]
    },
    {
      "cell_type": "code",
      "execution_count": null,
      "metadata": {
        "id": "SCwXh-y-lpcX"
      },
      "outputs": [
        {
          "ename": "",
          "evalue": "",
          "output_type": "error",
          "traceback": [
            "\u001b[1;31mRunning cells with 'env' requires the ipykernel package.\n",
            "\u001b[1;31mRun the following command to install 'ipykernel' into the Python environment. \n",
            "\u001b[1;31mCommand: '/home/lucas/lucas_folder/backup/AI-ML/statistical-programming/env/bin/python -m pip install ipykernel -U --force-reinstall'"
          ]
        }
      ],
      "source": [
        "# We can also slice multiple columns\n",
        "df.loc[:, ['rm', 'lstat']]"
      ]
    },
    {
      "cell_type": "code",
      "execution_count": null,
      "metadata": {
        "id": "MR9NV2qTmNBv"
      },
      "outputs": [
        {
          "ename": "",
          "evalue": "",
          "output_type": "error",
          "traceback": [
            "\u001b[1;31mRunning cells with 'env' requires the ipykernel package.\n",
            "\u001b[1;31mRun the following command to install 'ipykernel' into the Python environment. \n",
            "\u001b[1;31mCommand: '/home/lucas/lucas_folder/backup/AI-ML/statistical-programming/env/bin/python -m pip install ipykernel -U --force-reinstall'"
          ]
        }
      ],
      "source": [
        "# And also use the inbuilt methods and attributes\n",
        "df.loc[:, ['rm', 'lstat']].shape"
      ]
    },
    {
      "cell_type": "markdown",
      "metadata": {
        "id": "3cJQxd9Uma3Q"
      },
      "source": [
        "What is the first parameter (:) in the brackets. It is actually the row slicer and we can specify the indices for a specific slice or put the full colon (:), that implies that we want to get every row. The same applies for columns, we can get all columns the same way"
      ]
    },
    {
      "cell_type": "code",
      "execution_count": null,
      "metadata": {
        "id": "73MJKJ7FmTsd"
      },
      "outputs": [
        {
          "ename": "",
          "evalue": "",
          "output_type": "error",
          "traceback": [
            "\u001b[1;31mRunning cells with 'env' requires the ipykernel package.\n",
            "\u001b[1;31mRun the following command to install 'ipykernel' into the Python environment. \n",
            "\u001b[1;31mCommand: '/home/lucas/lucas_folder/backup/AI-ML/statistical-programming/env/bin/python -m pip install ipykernel -U --force-reinstall'"
          ]
        }
      ],
      "source": [
        "# Slicing rows from index 5-10\n",
        "df.loc[5:10, ['rm', 'lstat']]"
      ]
    },
    {
      "cell_type": "code",
      "execution_count": null,
      "metadata": {
        "id": "7CKGwigqmXV4"
      },
      "outputs": [
        {
          "ename": "",
          "evalue": "",
          "output_type": "error",
          "traceback": [
            "\u001b[1;31mRunning cells with 'env' requires the ipykernel package.\n",
            "\u001b[1;31mRun the following command to install 'ipykernel' into the Python environment. \n",
            "\u001b[1;31mCommand: '/home/lucas/lucas_folder/backup/AI-ML/statistical-programming/env/bin/python -m pip install ipykernel -U --force-reinstall'"
          ]
        }
      ],
      "source": [
        "# Another example\n",
        "df.loc[0:10:2, ['rm', 'lstat']]"
      ]
    },
    {
      "cell_type": "code",
      "execution_count": null,
      "metadata": {
        "id": "odZ536SamzZZ"
      },
      "outputs": [
        {
          "ename": "",
          "evalue": "",
          "output_type": "error",
          "traceback": [
            "\u001b[1;31mRunning cells with 'env' requires the ipykernel package.\n",
            "\u001b[1;31mRun the following command to install 'ipykernel' into the Python environment. \n",
            "\u001b[1;31mCommand: '/home/lucas/lucas_folder/backup/AI-ML/statistical-programming/env/bin/python -m pip install ipykernel -U --force-reinstall'"
          ]
        }
      ],
      "source": [
        "# Getting a specific row e.g row with index 2.\n",
        "df.loc[2, ['rm', 'lstat']]"
      ]
    },
    {
      "cell_type": "code",
      "execution_count": null,
      "metadata": {
        "id": "hvyIRNRJqWcP"
      },
      "outputs": [
        {
          "ename": "",
          "evalue": "",
          "output_type": "error",
          "traceback": [
            "\u001b[1;31mRunning cells with 'env' requires the ipykernel package.\n",
            "\u001b[1;31mRun the following command to install 'ipykernel' into the Python environment. \n",
            "\u001b[1;31mCommand: '/home/lucas/lucas_folder/backup/AI-ML/statistical-programming/env/bin/python -m pip install ipykernel -U --force-reinstall'"
          ]
        }
      ],
      "source": [
        "# Getting all columns using the : symbol\n",
        "df.loc[:, :]"
      ]
    },
    {
      "cell_type": "code",
      "execution_count": null,
      "metadata": {
        "id": "G8CeLjw7qfzQ"
      },
      "outputs": [
        {
          "ename": "",
          "evalue": "",
          "output_type": "error",
          "traceback": [
            "\u001b[1;31mRunning cells with 'env' requires the ipykernel package.\n",
            "\u001b[1;31mRun the following command to install 'ipykernel' into the Python environment. \n",
            "\u001b[1;31mCommand: '/home/lucas/lucas_folder/backup/AI-ML/statistical-programming/env/bin/python -m pip install ipykernel -U --force-reinstall'"
          ]
        }
      ],
      "source": [
        "# Getting all columns from row 0 to 5\n",
        "df.loc[0:5, :]\n",
        "# This is the same as df[0:5] and df.loc[0:5, ['RM', 'LSTAT', 'PTRATIO', 'target']]"
      ]
    },
    {
      "cell_type": "markdown",
      "metadata": {
        "id": "uukVSkPnJ81X"
      },
      "source": [
        "### Exercise 1\n",
        "You will use the [Pima Indians Dataset](https://www.kaggle.com/datasets/uciml/pima-indians-diabetes-database) to answer the following questions.\n",
        "1. Load the data [here](https://raw.githubusercontent.com/npradaschnor/Pima-Indians-Diabetes-Dataset/master/diabetes.csv). You can use the URL directly.\n",
        "2. How many rows and columns does are in the dataset?\n",
        "3. Disply the column names.\n",
        "4. What are the datatypes of the columns?\n",
        "5. Does the dataset have null values?"
      ]
    },
    {
      "cell_type": "markdown",
      "metadata": {
        "id": "PxE-T7Ur9exF"
      },
      "source": [
        "### Pandas dataframe indices explained\n",
        "\n",
        "Remeber the index is the unique ID for each row in the dataframe. Previously we have used a numerical range index but pandas indices do not need to be numbers. We shall use the shop records Dataframe to demonstrate this"
      ]
    },
    {
      "cell_type": "code",
      "execution_count": null,
      "metadata": {
        "id": "WhkBE-fPcQxl"
      },
      "outputs": [
        {
          "ename": "",
          "evalue": "",
          "output_type": "error",
          "traceback": [
            "\u001b[1;31mRunning cells with 'env' requires the ipykernel package.\n",
            "\u001b[1;31mRun the following command to install 'ipykernel' into the Python environment. \n",
            "\u001b[1;31mCommand: '/home/lucas/lucas_folder/backup/AI-ML/statistical-programming/env/bin/python -m pip install ipykernel -U --force-reinstall'"
          ]
        }
      ],
      "source": [
        "# We can use the set_index method to specify the column to be used as an index and this returns a modified dataframe\n",
        "# Here we store the result in a new variable\n",
        "shop_df_mod = shop_df.set_index('Name')\n",
        "shop_df_mod"
      ]
    },
    {
      "cell_type": "code",
      "execution_count": null,
      "metadata": {
        "id": "ZAR-uEDJ-oLd"
      },
      "outputs": [
        {
          "ename": "",
          "evalue": "",
          "output_type": "error",
          "traceback": [
            "\u001b[1;31mRunning cells with 'env' requires the ipykernel package.\n",
            "\u001b[1;31mRun the following command to install 'ipykernel' into the Python environment. \n",
            "\u001b[1;31mCommand: '/home/lucas/lucas_folder/backup/AI-ML/statistical-programming/env/bin/python -m pip install ipykernel -U --force-reinstall'"
          ]
        }
      ],
      "source": [
        "shop_df_mod.index"
      ]
    },
    {
      "cell_type": "code",
      "execution_count": null,
      "metadata": {
        "id": "4pFr8tOB_KzG"
      },
      "outputs": [
        {
          "ename": "",
          "evalue": "",
          "output_type": "error",
          "traceback": [
            "\u001b[1;31mRunning cells with 'env' requires the ipykernel package.\n",
            "\u001b[1;31mRun the following command to install 'ipykernel' into the Python environment. \n",
            "\u001b[1;31mCommand: '/home/lucas/lucas_folder/backup/AI-ML/statistical-programming/env/bin/python -m pip install ipykernel -U --force-reinstall'"
          ]
        }
      ],
      "source": [
        "# Try to slice the Name column\n",
        "# shop_df_mod['Name']"
      ]
    },
    {
      "cell_type": "markdown",
      "metadata": {
        "id": "e4VlHwkc_WX_"
      },
      "source": [
        "We shall get an error because the column does not exist.\n",
        "Infact we can verify this by listing the columns   \n",
        "**Hint:** A key error when slicing is an indication of a non-existing column"
      ]
    },
    {
      "cell_type": "code",
      "execution_count": null,
      "metadata": {
        "id": "N494vlCb_e5p"
      },
      "outputs": [
        {
          "ename": "",
          "evalue": "",
          "output_type": "error",
          "traceback": [
            "\u001b[1;31mRunning cells with 'env' requires the ipykernel package.\n",
            "\u001b[1;31mRun the following command to install 'ipykernel' into the Python environment. \n",
            "\u001b[1;31mCommand: '/home/lucas/lucas_folder/backup/AI-ML/statistical-programming/env/bin/python -m pip install ipykernel -U --force-reinstall'"
          ]
        }
      ],
      "source": [
        "# List columns\n",
        "shop_df_mod.columns"
      ]
    },
    {
      "cell_type": "code",
      "execution_count": null,
      "metadata": {
        "id": "xcxhuC6lPFNQ"
      },
      "outputs": [
        {
          "ename": "",
          "evalue": "",
          "output_type": "error",
          "traceback": [
            "\u001b[1;31mRunning cells with 'env' requires the ipykernel package.\n",
            "\u001b[1;31mRun the following command to install 'ipykernel' into the Python environment. \n",
            "\u001b[1;31mCommand: '/home/lucas/lucas_folder/backup/AI-ML/statistical-programming/env/bin/python -m pip install ipykernel -U --force-reinstall'"
          ]
        }
      ],
      "source": [
        "# Review: slicing 1 column\n",
        "shop_df_mod[\"Price\"]"
      ]
    },
    {
      "cell_type": "code",
      "execution_count": null,
      "metadata": {
        "id": "hasoYTgfPJff"
      },
      "outputs": [
        {
          "ename": "",
          "evalue": "",
          "output_type": "error",
          "traceback": [
            "\u001b[1;31mRunning cells with 'env' requires the ipykernel package.\n",
            "\u001b[1;31mRun the following command to install 'ipykernel' into the Python environment. \n",
            "\u001b[1;31mCommand: '/home/lucas/lucas_folder/backup/AI-ML/statistical-programming/env/bin/python -m pip install ipykernel -U --force-reinstall'"
          ]
        }
      ],
      "source": [
        "# Slice the row loc at index 2\n",
        "# We expect an error as this index does not exist\n",
        "# shop_df_mod.loc[2]"
      ]
    },
    {
      "cell_type": "markdown",
      "metadata": {
        "id": "0du1aAz0PzwO"
      },
      "source": [
        "### Slicing Rows & Columns with .loc"
      ]
    },
    {
      "cell_type": "code",
      "execution_count": null,
      "metadata": {
        "id": "_7v3ZGxyArZd"
      },
      "outputs": [
        {
          "ename": "",
          "evalue": "",
          "output_type": "error",
          "traceback": [
            "\u001b[1;31mRunning cells with 'env' requires the ipykernel package.\n",
            "\u001b[1;31mRun the following command to install 'ipykernel' into the Python environment. \n",
            "\u001b[1;31mCommand: '/home/lucas/lucas_folder/backup/AI-ML/statistical-programming/env/bin/python -m pip install ipykernel -U --force-reinstall'"
          ]
        }
      ],
      "source": [
        "# Slice out the row with cake as the index\n",
        "shop_df_mod.loc['cake',:]"
      ]
    },
    {
      "cell_type": "code",
      "execution_count": null,
      "metadata": {
        "id": "M3aPeE0jPq9w"
      },
      "outputs": [
        {
          "ename": "",
          "evalue": "",
          "output_type": "error",
          "traceback": [
            "\u001b[1;31mRunning cells with 'env' requires the ipykernel package.\n",
            "\u001b[1;31mRun the following command to install 'ipykernel' into the Python environment. \n",
            "\u001b[1;31mCommand: '/home/lucas/lucas_folder/backup/AI-ML/statistical-programming/env/bin/python -m pip install ipykernel -U --force-reinstall'"
          ]
        }
      ],
      "source": [
        "# Slice multiple rows using a list\n",
        "shop_df_mod.loc[['cake','brownie']]"
      ]
    },
    {
      "cell_type": "code",
      "execution_count": null,
      "metadata": {
        "id": "dWwx1zcOP2i5"
      },
      "outputs": [
        {
          "ename": "",
          "evalue": "",
          "output_type": "error",
          "traceback": [
            "\u001b[1;31mRunning cells with 'env' requires the ipykernel package.\n",
            "\u001b[1;31mRun the following command to install 'ipykernel' into the Python environment. \n",
            "\u001b[1;31mCommand: '/home/lucas/lucas_folder/backup/AI-ML/statistical-programming/env/bin/python -m pip install ipykernel -U --force-reinstall'"
          ]
        }
      ],
      "source": [
        "# Slice the cupcake/cookie rows and Price/Quantity Sold columns\n",
        "shop_df_mod.loc[[\"cupcake\",\"cookie\"], [\"Price\", \"Quantity Sold\"]]"
      ]
    },
    {
      "cell_type": "markdown",
      "metadata": {
        "id": "Y_hgFKgMQrHm"
      },
      "source": [
        "### Slicing Columns (Only) with .loc"
      ]
    },
    {
      "cell_type": "code",
      "execution_count": null,
      "metadata": {
        "id": "-Xj1VefXQqZe"
      },
      "outputs": [
        {
          "ename": "",
          "evalue": "",
          "output_type": "error",
          "traceback": [
            "\u001b[1;31mRunning cells with 'env' requires the ipykernel package.\n",
            "\u001b[1;31mRun the following command to install 'ipykernel' into the Python environment. \n",
            "\u001b[1;31mCommand: '/home/lucas/lucas_folder/backup/AI-ML/statistical-programming/env/bin/python -m pip install ipykernel -U --force-reinstall'"
          ]
        }
      ],
      "source": [
        "# Selet all rows for the Price Column\n",
        "shop_df_mod.loc[:, 'Price']"
      ]
    },
    {
      "cell_type": "code",
      "execution_count": null,
      "metadata": {
        "id": "LQ_R6K7rQzq2"
      },
      "outputs": [
        {
          "ename": "",
          "evalue": "",
          "output_type": "error",
          "traceback": [
            "\u001b[1;31mRunning cells with 'env' requires the ipykernel package.\n",
            "\u001b[1;31mRun the following command to install 'ipykernel' into the Python environment. \n",
            "\u001b[1;31mCommand: '/home/lucas/lucas_folder/backup/AI-ML/statistical-programming/env/bin/python -m pip install ipykernel -U --force-reinstall'"
          ]
        }
      ],
      "source": [
        "# Slice all rows for mulitple columns\n",
        "shop_df_mod.loc[:, [\"Price\",\"Quantity Sold\"]]\n",
        "\n"
      ]
    },
    {
      "cell_type": "markdown",
      "metadata": {
        "id": "KxLe4LpVDx7c"
      },
      "source": [
        "Issue with dot Notation"
      ]
    },
    {
      "cell_type": "code",
      "execution_count": null,
      "metadata": {
        "id": "fjTkYySyD1vj"
      },
      "outputs": [
        {
          "ename": "",
          "evalue": "",
          "output_type": "error",
          "traceback": [
            "\u001b[1;31mRunning cells with 'env' requires the ipykernel package.\n",
            "\u001b[1;31mRun the following command to install 'ipykernel' into the Python environment. \n",
            "\u001b[1;31mCommand: '/home/lucas/lucas_folder/backup/AI-ML/statistical-programming/env/bin/python -m pip install ipykernel -U --force-reinstall'"
          ]
        }
      ],
      "source": [
        "# We cannot use the dot notation to get the Quantity Sold series\n",
        "# shop_df_mod.Quantity Sold"
      ]
    },
    {
      "cell_type": "markdown",
      "metadata": {
        "id": "-vWYltjvCn3g"
      },
      "source": [
        "# What do you understand by filtering?"
      ]
    },
    {
      "cell_type": "markdown",
      "metadata": {
        "id": "rJjpU4lPo0b3"
      },
      "source": [
        "### Filtering\n",
        "Get the data for this section from [here](https://drive.google.com/file/d/1Vs4IyWyXnanJxRz9wOgwgxqgg-kNAAaT/view?usp=sharing)."
      ]
    },
    {
      "cell_type": "code",
      "execution_count": null,
      "metadata": {
        "id": "vXzBiiekJY92"
      },
      "outputs": [
        {
          "ename": "",
          "evalue": "",
          "output_type": "error",
          "traceback": [
            "\u001b[1;31mRunning cells with 'env' requires the ipykernel package.\n",
            "\u001b[1;31mRun the following command to install 'ipykernel' into the Python environment. \n",
            "\u001b[1;31mCommand: '/home/lucas/lucas_folder/backup/AI-ML/statistical-programming/env/bin/python -m pip install ipykernel -U --force-reinstall'"
          ]
        }
      ],
      "source": [
        "# Import pandas if not already imported\n",
        "# import pandas as pd"
      ]
    },
    {
      "cell_type": "code",
      "execution_count": null,
      "metadata": {
        "id": "QVcNoznfoSth"
      },
      "outputs": [
        {
          "ename": "",
          "evalue": "",
          "output_type": "error",
          "traceback": [
            "\u001b[1;31mRunning cells with 'env' requires the ipykernel package.\n",
            "\u001b[1;31mRun the following command to install 'ipykernel' into the Python environment. \n",
            "\u001b[1;31mCommand: '/home/lucas/lucas_folder/backup/AI-ML/statistical-programming/env/bin/python -m pip install ipykernel -U --force-reinstall'"
          ]
        }
      ],
      "source": [
        "filename1 = '/content/drive/MyDrive/AI_ML_Data_Analytics/slides/Week 1/mortgages.csv'\n",
        "df1 = pd.read_csv(filename1)"
      ]
    },
    {
      "cell_type": "markdown",
      "metadata": {
        "id": "n271IjFCsuU8"
      },
      "source": [
        "Let us get some basic information about our data."
      ]
    },
    {
      "cell_type": "code",
      "execution_count": null,
      "metadata": {
        "id": "vVIEVMp4sgql"
      },
      "outputs": [
        {
          "ename": "",
          "evalue": "",
          "output_type": "error",
          "traceback": [
            "\u001b[1;31mRunning cells with 'env' requires the ipykernel package.\n",
            "\u001b[1;31mRun the following command to install 'ipykernel' into the Python environment. \n",
            "\u001b[1;31mCommand: '/home/lucas/lucas_folder/backup/AI-ML/statistical-programming/env/bin/python -m pip install ipykernel -U --force-reinstall'"
          ]
        }
      ],
      "source": [
        "df1.head()"
      ]
    },
    {
      "cell_type": "code",
      "execution_count": null,
      "metadata": {
        "id": "EtX0_hvcuXWr"
      },
      "outputs": [
        {
          "ename": "",
          "evalue": "",
          "output_type": "error",
          "traceback": [
            "\u001b[1;31mRunning cells with 'env' requires the ipykernel package.\n",
            "\u001b[1;31mRun the following command to install 'ipykernel' into the Python environment. \n",
            "\u001b[1;31mCommand: '/home/lucas/lucas_folder/backup/AI-ML/statistical-programming/env/bin/python -m pip install ipykernel -U --force-reinstall'"
          ]
        }
      ],
      "source": [
        "# Get the number of rows and columns\n",
        "df1.shape"
      ]
    },
    {
      "cell_type": "code",
      "execution_count": null,
      "metadata": {
        "id": "baGJ-0NOubhS"
      },
      "outputs": [
        {
          "ename": "",
          "evalue": "",
          "output_type": "error",
          "traceback": [
            "\u001b[1;31mRunning cells with 'env' requires the ipykernel package.\n",
            "\u001b[1;31mRun the following command to install 'ipykernel' into the Python environment. \n",
            "\u001b[1;31mCommand: '/home/lucas/lucas_folder/backup/AI-ML/statistical-programming/env/bin/python -m pip install ipykernel -U --force-reinstall'"
          ]
        }
      ],
      "source": [
        "# Get information about the datatypes()\n",
        "df1.info()"
      ]
    },
    {
      "cell_type": "code",
      "execution_count": null,
      "metadata": {
        "id": "kZ4WgvoKu6KM"
      },
      "outputs": [
        {
          "ename": "",
          "evalue": "",
          "output_type": "error",
          "traceback": [
            "\u001b[1;31mRunning cells with 'env' requires the ipykernel package.\n",
            "\u001b[1;31mRun the following command to install 'ipykernel' into the Python environment. \n",
            "\u001b[1;31mCommand: '/home/lucas/lucas_folder/backup/AI-ML/statistical-programming/env/bin/python -m pip install ipykernel -U --force-reinstall'"
          ]
        }
      ],
      "source": [
        "# What is the number of null values in each column"
      ]
    },
    {
      "cell_type": "markdown",
      "metadata": {
        "id": "3NJfvYtHFMJY"
      },
      "source": [
        "New functions for checking null values"
      ]
    },
    {
      "cell_type": "code",
      "execution_count": null,
      "metadata": {
        "id": "8d0YaRb1iNPE"
      },
      "outputs": [
        {
          "ename": "",
          "evalue": "",
          "output_type": "error",
          "traceback": [
            "\u001b[1;31mRunning cells with 'env' requires the ipykernel package.\n",
            "\u001b[1;31mRun the following command to install 'ipykernel' into the Python environment. \n",
            "\u001b[1;31mCommand: '/home/lucas/lucas_folder/backup/AI-ML/statistical-programming/env/bin/python -m pip install ipykernel -U --force-reinstall'"
          ]
        }
      ],
      "source": [
        "df1.isnull()"
      ]
    },
    {
      "cell_type": "code",
      "execution_count": null,
      "metadata": {
        "id": "-VEhHYUahuH2"
      },
      "outputs": [
        {
          "ename": "",
          "evalue": "",
          "output_type": "error",
          "traceback": [
            "\u001b[1;31mRunning cells with 'env' requires the ipykernel package.\n",
            "\u001b[1;31mRun the following command to install 'ipykernel' into the Python environment. \n",
            "\u001b[1;31mCommand: '/home/lucas/lucas_folder/backup/AI-ML/statistical-programming/env/bin/python -m pip install ipykernel -U --force-reinstall'"
          ]
        }
      ],
      "source": [
        "df1.isnull().count()"
      ]
    },
    {
      "cell_type": "code",
      "execution_count": null,
      "metadata": {
        "id": "8TS7mAZIiGwt"
      },
      "outputs": [
        {
          "ename": "",
          "evalue": "",
          "output_type": "error",
          "traceback": [
            "\u001b[1;31mRunning cells with 'env' requires the ipykernel package.\n",
            "\u001b[1;31mRun the following command to install 'ipykernel' into the Python environment. \n",
            "\u001b[1;31mCommand: '/home/lucas/lucas_folder/backup/AI-ML/statistical-programming/env/bin/python -m pip install ipykernel -U --force-reinstall'"
          ]
        }
      ],
      "source": [
        "df1.isnull().sum()"
      ]
    },
    {
      "cell_type": "markdown",
      "metadata": {
        "id": "iplnWalUFbdj"
      },
      "source": [
        "Note that although this dataset does not have null values, these methods will come in handy next week as we learn how to deal with missing values."
      ]
    },
    {
      "cell_type": "code",
      "execution_count": null,
      "metadata": {
        "id": "ojiUGh3bu-p9"
      },
      "outputs": [
        {
          "ename": "",
          "evalue": "",
          "output_type": "error",
          "traceback": [
            "\u001b[1;31mRunning cells with 'env' requires the ipykernel package.\n",
            "\u001b[1;31mRun the following command to install 'ipykernel' into the Python environment. \n",
            "\u001b[1;31mCommand: '/home/lucas/lucas_folder/backup/AI-ML/statistical-programming/env/bin/python -m pip install ipykernel -U --force-reinstall'"
          ]
        }
      ],
      "source": [
        "# Let us use some new methods to ghet information about the values in the columns\n",
        "df1.columns"
      ]
    },
    {
      "cell_type": "code",
      "execution_count": null,
      "metadata": {
        "id": "elL1qY2kv95U"
      },
      "outputs": [
        {
          "ename": "",
          "evalue": "",
          "output_type": "error",
          "traceback": [
            "\u001b[1;31mRunning cells with 'env' requires the ipykernel package.\n",
            "\u001b[1;31mRun the following command to install 'ipykernel' into the Python environment. \n",
            "\u001b[1;31mCommand: '/home/lucas/lucas_folder/backup/AI-ML/statistical-programming/env/bin/python -m pip install ipykernel -U --force-reinstall'"
          ]
        }
      ],
      "source": [
        "# The value_counts() methods returns the number of occurances of the\n",
        "# unique values in a series e.g.\n",
        "df1['Mortgage Name'].value_counts()"
      ]
    },
    {
      "cell_type": "code",
      "execution_count": null,
      "metadata": {
        "id": "Hz7QN-ZiwOL5"
      },
      "outputs": [
        {
          "ename": "",
          "evalue": "",
          "output_type": "error",
          "traceback": [
            "\u001b[1;31mRunning cells with 'env' requires the ipykernel package.\n",
            "\u001b[1;31mRun the following command to install 'ipykernel' into the Python environment. \n",
            "\u001b[1;31mCommand: '/home/lucas/lucas_folder/backup/AI-ML/statistical-programming/env/bin/python -m pip install ipykernel -U --force-reinstall'"
          ]
        }
      ],
      "source": [
        "# We can also get this for the interest rate series\n",
        "df1['Interest Rate'].value_counts()"
      ]
    },
    {
      "cell_type": "code",
      "execution_count": null,
      "metadata": {
        "id": "fT7_pFCXwgez"
      },
      "outputs": [
        {
          "ename": "",
          "evalue": "",
          "output_type": "error",
          "traceback": [
            "\u001b[1;31mRunning cells with 'env' requires the ipykernel package.\n",
            "\u001b[1;31mRun the following command to install 'ipykernel' into the Python environment. \n",
            "\u001b[1;31mCommand: '/home/lucas/lucas_folder/backup/AI-ML/statistical-programming/env/bin/python -m pip install ipykernel -U --force-reinstall'"
          ]
        }
      ],
      "source": [
        "# Question: How many mortgages have a 30 Year term?"
      ]
    },
    {
      "cell_type": "code",
      "execution_count": null,
      "metadata": {
        "id": "UriRJDqaw5v3"
      },
      "outputs": [
        {
          "ename": "",
          "evalue": "",
          "output_type": "error",
          "traceback": [
            "\u001b[1;31mRunning cells with 'env' requires the ipykernel package.\n",
            "\u001b[1;31mRun the following command to install 'ipykernel' into the Python environment. \n",
            "\u001b[1;31mCommand: '/home/lucas/lucas_folder/backup/AI-ML/statistical-programming/env/bin/python -m pip install ipykernel -U --force-reinstall'"
          ]
        }
      ],
      "source": [
        "# How do we create filters?\n",
        "# We can use comparison operators e.g >, <,  !=,...\n",
        "# E.g we can get which mortgage names are named 30 year using the equals (==) operator\n",
        "df1['Mortgage Name'] == '30 Year'\n",
        "# Notice this returns a boolean series/array based on the evaluation of the condition."
      ]
    },
    {
      "cell_type": "code",
      "execution_count": null,
      "metadata": {
        "id": "oe2hunRCxmP7"
      },
      "outputs": [
        {
          "ename": "",
          "evalue": "",
          "output_type": "error",
          "traceback": [
            "\u001b[1;31mRunning cells with 'env' requires the ipykernel package.\n",
            "\u001b[1;31mRun the following command to install 'ipykernel' into the Python environment. \n",
            "\u001b[1;31mCommand: '/home/lucas/lucas_folder/backup/AI-ML/statistical-programming/env/bin/python -m pip install ipykernel -U --force-reinstall'"
          ]
        }
      ],
      "source": [
        "# Let us store this filter in a variable that we shall reuse later.\n",
        "mortgage_filter = df1['Mortgage Name'] == '30 Year'"
      ]
    },
    {
      "cell_type": "code",
      "execution_count": null,
      "metadata": {
        "id": "UgsMpNmux5In"
      },
      "outputs": [
        {
          "ename": "",
          "evalue": "",
          "output_type": "error",
          "traceback": [
            "\u001b[1;31mRunning cells with 'env' requires the ipykernel package.\n",
            "\u001b[1;31mRun the following command to install 'ipykernel' into the Python environment. \n",
            "\u001b[1;31mCommand: '/home/lucas/lucas_folder/backup/AI-ML/statistical-programming/env/bin/python -m pip install ipykernel -U --force-reinstall'"
          ]
        }
      ],
      "source": [
        "# Let us filter our dataframe.\n",
        "# 1. Filtering with square brackets\n",
        "# The general notation is dataframe[filter] and this will return a filtered data frame e.g\n",
        "df1[mortgage_filter]"
      ]
    },
    {
      "cell_type": "code",
      "execution_count": null,
      "metadata": {
        "id": "-MZ2PCH2yR2u"
      },
      "outputs": [
        {
          "ename": "",
          "evalue": "",
          "output_type": "error",
          "traceback": [
            "\u001b[1;31mRunning cells with 'env' requires the ipykernel package.\n",
            "\u001b[1;31mRun the following command to install 'ipykernel' into the Python environment. \n",
            "\u001b[1;31mCommand: '/home/lucas/lucas_folder/backup/AI-ML/statistical-programming/env/bin/python -m pip install ipykernel -U --force-reinstall'"
          ]
        }
      ],
      "source": [
        "# let us store this in a new variable and investigate the result\n",
        "df1_mortgage_filtered = df1[mortgage_filter]\n",
        "# We can check the value counts for the Mortgage name series\n",
        "df1_mortgage_filtered['Mortgage Name'].value_counts()\n",
        "# we can see that we only have the 30 Year value"
      ]
    },
    {
      "cell_type": "code",
      "execution_count": null,
      "metadata": {
        "id": "-wTxFskTy006"
      },
      "outputs": [
        {
          "ename": "",
          "evalue": "",
          "output_type": "error",
          "traceback": [
            "\u001b[1;31mRunning cells with 'env' requires the ipykernel package.\n",
            "\u001b[1;31mRun the following command to install 'ipykernel' into the Python environment. \n",
            "\u001b[1;31mCommand: '/home/lucas/lucas_folder/backup/AI-ML/statistical-programming/env/bin/python -m pip install ipykernel -U --force-reinstall'"
          ]
        }
      ],
      "source": [
        "# Return data with an interest rate of 0.05\n",
        "\n",
        "# Create interest rate filter\n",
        "interest_filter = df1['Interest Rate'] == 0.05\n",
        "\n",
        "# Filter the dataframe and save in a variable\n",
        "df1_interest_filtered = df1[interest_filter]\n",
        "\n",
        "# Check the result\n",
        "df1_interest_filtered['Interest Rate'].value_counts()"
      ]
    },
    {
      "cell_type": "code",
      "execution_count": null,
      "metadata": {
        "id": "YKrvVaJJz3H-"
      },
      "outputs": [
        {
          "ename": "",
          "evalue": "",
          "output_type": "error",
          "traceback": [
            "\u001b[1;31mRunning cells with 'env' requires the ipykernel package.\n",
            "\u001b[1;31mRun the following command to install 'ipykernel' into the Python environment. \n",
            "\u001b[1;31mCommand: '/home/lucas/lucas_folder/backup/AI-ML/statistical-programming/env/bin/python -m pip install ipykernel -U --force-reinstall'"
          ]
        }
      ],
      "source": [
        "# We can also filter using the loc attribute.\n",
        "# The general notation is dataframe.loc[filter, columns]\n",
        "df1.loc[interest_filter, :].head()"
      ]
    },
    {
      "cell_type": "markdown",
      "metadata": {
        "id": "pvLiHHho0Ryz"
      },
      "source": [
        "**Combining Filters**  \n",
        "We can use Bitwise operators e.g, &, | to combine filters."
      ]
    },
    {
      "cell_type": "code",
      "execution_count": null,
      "metadata": {
        "id": "SutRmhS90NAp"
      },
      "outputs": [
        {
          "ename": "",
          "evalue": "",
          "output_type": "error",
          "traceback": [
            "\u001b[1;31mRunning cells with 'env' requires the ipykernel package.\n",
            "\u001b[1;31mRun the following command to install 'ipykernel' into the Python environment. \n",
            "\u001b[1;31mCommand: '/home/lucas/lucas_folder/backup/AI-ML/statistical-programming/env/bin/python -m pip install ipykernel -U --force-reinstall'"
          ]
        }
      ],
      "source": [
        "# Let us combine the 2 filters above i.e\n",
        "# Get data where Mortgagename is 30 Year and interest rate is 0.05\n",
        "df_combined_filter = df1[mortgage_filter&interest_filter]\n",
        "df_combined_filter.head()"
      ]
    },
    {
      "cell_type": "code",
      "execution_count": null,
      "metadata": {
        "id": "0sbMI-Kw1JOC"
      },
      "outputs": [
        {
          "ename": "",
          "evalue": "",
          "output_type": "error",
          "traceback": [
            "\u001b[1;31mRunning cells with 'env' requires the ipykernel package.\n",
            "\u001b[1;31mRun the following command to install 'ipykernel' into the Python environment. \n",
            "\u001b[1;31mCommand: '/home/lucas/lucas_folder/backup/AI-ML/statistical-programming/env/bin/python -m pip install ipykernel -U --force-reinstall'"
          ]
        }
      ],
      "source": [
        "# Verify by checking value_counts for both series\n",
        "df_combined_filter['Interest Rate'].value_counts()"
      ]
    },
    {
      "cell_type": "code",
      "execution_count": null,
      "metadata": {
        "id": "YDhdJqhW2Bru"
      },
      "outputs": [
        {
          "ename": "",
          "evalue": "",
          "output_type": "error",
          "traceback": [
            "\u001b[1;31mRunning cells with 'env' requires the ipykernel package.\n",
            "\u001b[1;31mRun the following command to install 'ipykernel' into the Python environment. \n",
            "\u001b[1;31mCommand: '/home/lucas/lucas_folder/backup/AI-ML/statistical-programming/env/bin/python -m pip install ipykernel -U --force-reinstall'"
          ]
        }
      ],
      "source": [
        "df_combined_filter['Mortgage Name'].value_counts()"
      ]
    },
    {
      "cell_type": "code",
      "execution_count": null,
      "metadata": {
        "id": "OhMu-y6x2LlT"
      },
      "outputs": [
        {
          "ename": "",
          "evalue": "",
          "output_type": "error",
          "traceback": [
            "\u001b[1;31mRunning cells with 'env' requires the ipykernel package.\n",
            "\u001b[1;31mRun the following command to install 'ipykernel' into the Python environment. \n",
            "\u001b[1;31mCommand: '/home/lucas/lucas_folder/backup/AI-ML/statistical-programming/env/bin/python -m pip install ipykernel -U --force-reinstall'"
          ]
        }
      ],
      "source": [
        "# Question: Show data where the mortgage name is 15 Year or interest rate is less than 0.04"
      ]
    },
    {
      "cell_type": "markdown",
      "metadata": {
        "id": "ozBq-9q4nVaU"
      },
      "source": [
        "# Exercise 2\n",
        "Using the Dataset from Exercise 1, answer the following questions.\n",
        "1. Show the values of centrality for the dataset.\n",
        "2. How many patients with atleast 2 **pregnancies** have higher than the mean **Glucose** level?\n",
        "3. How many patients have:\n",
        "  - greater than median **Blood Pressure**\n",
        "  - less than median **Blood Pressure**\n"
      ]
    }
  ],
  "metadata": {
    "colab": {
      "include_colab_link": true,
      "provenance": []
    },
    "kernelspec": {
      "display_name": "Python 3",
      "name": "python3"
    },
    "language_info": {
      "name": "python"
    }
  },
  "nbformat": 4,
  "nbformat_minor": 0
}
