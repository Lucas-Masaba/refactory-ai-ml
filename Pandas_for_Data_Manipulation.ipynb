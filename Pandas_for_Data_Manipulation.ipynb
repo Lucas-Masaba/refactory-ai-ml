{
  "nbformat": 4,
  "nbformat_minor": 0,
  "metadata": {
    "colab": {
      "provenance": [],
      "include_colab_link": true
    },
    "kernelspec": {
      "name": "python3",
      "display_name": "Python 3"
    },
    "language_info": {
      "name": "python"
    }
  },
  "cells": [
    {
      "cell_type": "markdown",
      "metadata": {
        "id": "view-in-github",
        "colab_type": "text"
      },
      "source": [
        "<a href=\"https://colab.research.google.com/github/Lucas-Masaba/refactory-ai-ml/blob/main/Pandas_for_Data_Manipulation.ipynb\" target=\"_parent\"><img src=\"https://colab.research.google.com/assets/colab-badge.svg\" alt=\"Open In Colab\"/></a>"
      ]
    },
    {
      "cell_type": "markdown",
      "source": [
        "# What do you undertsand by the term Manipulation?\n",
        "\n",
        "\n",
        "*   Type here\n",
        "*   \n",
        "*   \n",
        "*   \n",
        "\n",
        "\n"
      ],
      "metadata": {
        "id": "hOWGoJo1UNkR"
      }
    },
    {
      "cell_type": "markdown",
      "source": [
        "## What is Pandas?  \n",
        "Pandas is a Python library used for working with data sets.\n",
        "\n",
        "It has functions for analyzing, cleaning, exploring, and manipulating data.\n",
        "\n",
        "The name \"Pandas\" has a reference to both \"Panel Data\", and \"Python Data Analysis\" and was created by Wes McKinney in 2008.\n",
        "\n",
        "Source: [W3Schools](https://www.w3schools.com/python/pandas/pandas_intro.asp)\n",
        "\n",
        "\n",
        "As a data scientist, you will use pandas as one of the most popular libraries for working with data.\n"
      ],
      "metadata": {
        "id": "RGWckvtFVFg2"
      }
    },
    {
      "cell_type": "markdown",
      "source": [
        "**Panda's New Data Types**\n",
        "\n",
        "Pandas has 2 main types of collections that we will be working with: Series and DataFrames.\n",
        "\n",
        "1. Series are used for 1-dimensional data.\n",
        "2. DataFrames are used for 2-dimensional data.  \n",
        "\n",
        "(Note that \"DataFrame\" is also commonly written in text with lowercase letters as \"dataframe.\" We will use both interchangeably in the text. In code, however, you must use capital letters.)\n",
        "\n",
        "We will usually be working with 2-dimensional data, so let's dive into DataFrames first."
      ],
      "metadata": {
        "id": "dVQ9kvmVVLQB"
      }
    },
    {
      "cell_type": "markdown",
      "source": [
        "<img src=\"https://assets.codingdojo.com/boomyeah2015/codingdojo/curriculum/content/chapter/1679528098__bake-sale-spreadsheet-1.png\">"
      ],
      "metadata": {
        "id": "kbQFrQdEVwOV"
      }
    },
    {
      "cell_type": "markdown",
      "source": [
        "**Creating a DataFrame**  \n",
        "\n",
        "There are several different ways that we can create a dataframe.\n",
        "\n",
        "We shall start from lists, the easiest way to create the dataframe is to make a temporary dictionary with the column names we want to use as the keys and the list of data as the values."
      ],
      "metadata": {
        "id": "dVDAQwC2Vk6s"
      }
    },
    {
      "cell_type": "code",
      "source": [
        "# Creating the lists\n",
        "names_list = ['brownie','cookie','cake', 'cupcake']\n",
        "prices_list = [2.25,1.25,9.5, 3.5]\n",
        "quantities_sold_list = [17, 40, 1, 10]"
      ],
      "metadata": {
        "id": "hX2C1__nWS_G"
      },
      "execution_count": null,
      "outputs": []
    },
    {
      "cell_type": "code",
      "source": [
        "# One way of storing our data\n",
        "shop_records = {'Name':names_list,\n",
        "                'Price':prices_list,\n",
        "                \"Quantity Sold\": quantities_sold_list}"
      ],
      "metadata": {
        "id": "Ac1oaeWwnn7H"
      },
      "execution_count": null,
      "outputs": []
    },
    {
      "cell_type": "code",
      "source": [
        "shop_records"
      ],
      "metadata": {
        "colab": {
          "base_uri": "https://localhost:8080/"
        },
        "id": "Gt-aORRSoQ_g",
        "outputId": "41c308b0-9fab-46cb-ffeb-1382f3524a0e"
      },
      "execution_count": null,
      "outputs": [
        {
          "output_type": "execute_result",
          "data": {
            "text/plain": [
              "{'Name': ['brownie', 'cookie', 'cake', 'cupcake'],\n",
              " 'Price': [2.25, 1.25, 9.5, 3.5],\n",
              " 'Quantity Sold': [17, 40, 1, 10]}"
            ]
          },
          "metadata": {},
          "execution_count": 3
        }
      ]
    },
    {
      "cell_type": "code",
      "source": [
        "# import pandas library\n",
        "import pandas as pd"
      ],
      "metadata": {
        "id": "QJaQ43qhWnKu"
      },
      "execution_count": null,
      "outputs": []
    },
    {
      "cell_type": "code",
      "source": [
        "# Make a dataframe from a dictionary\n",
        "shop_df = pd.DataFrame(shop_records)\n",
        "shop_df\n"
      ],
      "metadata": {
        "id": "GRip6J4_WfQP",
        "colab": {
          "base_uri": "https://localhost:8080/",
          "height": 174
        },
        "outputId": "919334e8-f98a-49e8-9fca-f7e918be397c"
      },
      "execution_count": null,
      "outputs": [
        {
          "output_type": "execute_result",
          "data": {
            "text/plain": [
              "      Name  Price  Quantity Sold\n",
              "0  brownie   2.25             17\n",
              "1   cookie   1.25             40\n",
              "2     cake   9.50              1\n",
              "3  cupcake   3.50             10"
            ],
            "text/html": [
              "\n",
              "  <div id=\"df-04cf8b1a-3777-45d2-8d91-701910a37f0c\" class=\"colab-df-container\">\n",
              "    <div>\n",
              "<style scoped>\n",
              "    .dataframe tbody tr th:only-of-type {\n",
              "        vertical-align: middle;\n",
              "    }\n",
              "\n",
              "    .dataframe tbody tr th {\n",
              "        vertical-align: top;\n",
              "    }\n",
              "\n",
              "    .dataframe thead th {\n",
              "        text-align: right;\n",
              "    }\n",
              "</style>\n",
              "<table border=\"1\" class=\"dataframe\">\n",
              "  <thead>\n",
              "    <tr style=\"text-align: right;\">\n",
              "      <th></th>\n",
              "      <th>Name</th>\n",
              "      <th>Price</th>\n",
              "      <th>Quantity Sold</th>\n",
              "    </tr>\n",
              "  </thead>\n",
              "  <tbody>\n",
              "    <tr>\n",
              "      <th>0</th>\n",
              "      <td>brownie</td>\n",
              "      <td>2.25</td>\n",
              "      <td>17</td>\n",
              "    </tr>\n",
              "    <tr>\n",
              "      <th>1</th>\n",
              "      <td>cookie</td>\n",
              "      <td>1.25</td>\n",
              "      <td>40</td>\n",
              "    </tr>\n",
              "    <tr>\n",
              "      <th>2</th>\n",
              "      <td>cake</td>\n",
              "      <td>9.50</td>\n",
              "      <td>1</td>\n",
              "    </tr>\n",
              "    <tr>\n",
              "      <th>3</th>\n",
              "      <td>cupcake</td>\n",
              "      <td>3.50</td>\n",
              "      <td>10</td>\n",
              "    </tr>\n",
              "  </tbody>\n",
              "</table>\n",
              "</div>\n",
              "    <div class=\"colab-df-buttons\">\n",
              "\n",
              "  <div class=\"colab-df-container\">\n",
              "    <button class=\"colab-df-convert\" onclick=\"convertToInteractive('df-04cf8b1a-3777-45d2-8d91-701910a37f0c')\"\n",
              "            title=\"Convert this dataframe to an interactive table.\"\n",
              "            style=\"display:none;\">\n",
              "\n",
              "  <svg xmlns=\"http://www.w3.org/2000/svg\" height=\"24px\" viewBox=\"0 -960 960 960\">\n",
              "    <path d=\"M120-120v-720h720v720H120Zm60-500h600v-160H180v160Zm220 220h160v-160H400v160Zm0 220h160v-160H400v160ZM180-400h160v-160H180v160Zm440 0h160v-160H620v160ZM180-180h160v-160H180v160Zm440 0h160v-160H620v160Z\"/>\n",
              "  </svg>\n",
              "    </button>\n",
              "\n",
              "  <style>\n",
              "    .colab-df-container {\n",
              "      display:flex;\n",
              "      gap: 12px;\n",
              "    }\n",
              "\n",
              "    .colab-df-convert {\n",
              "      background-color: #E8F0FE;\n",
              "      border: none;\n",
              "      border-radius: 50%;\n",
              "      cursor: pointer;\n",
              "      display: none;\n",
              "      fill: #1967D2;\n",
              "      height: 32px;\n",
              "      padding: 0 0 0 0;\n",
              "      width: 32px;\n",
              "    }\n",
              "\n",
              "    .colab-df-convert:hover {\n",
              "      background-color: #E2EBFA;\n",
              "      box-shadow: 0px 1px 2px rgba(60, 64, 67, 0.3), 0px 1px 3px 1px rgba(60, 64, 67, 0.15);\n",
              "      fill: #174EA6;\n",
              "    }\n",
              "\n",
              "    .colab-df-buttons div {\n",
              "      margin-bottom: 4px;\n",
              "    }\n",
              "\n",
              "    [theme=dark] .colab-df-convert {\n",
              "      background-color: #3B4455;\n",
              "      fill: #D2E3FC;\n",
              "    }\n",
              "\n",
              "    [theme=dark] .colab-df-convert:hover {\n",
              "      background-color: #434B5C;\n",
              "      box-shadow: 0px 1px 3px 1px rgba(0, 0, 0, 0.15);\n",
              "      filter: drop-shadow(0px 1px 2px rgba(0, 0, 0, 0.3));\n",
              "      fill: #FFFFFF;\n",
              "    }\n",
              "  </style>\n",
              "\n",
              "    <script>\n",
              "      const buttonEl =\n",
              "        document.querySelector('#df-04cf8b1a-3777-45d2-8d91-701910a37f0c button.colab-df-convert');\n",
              "      buttonEl.style.display =\n",
              "        google.colab.kernel.accessAllowed ? 'block' : 'none';\n",
              "\n",
              "      async function convertToInteractive(key) {\n",
              "        const element = document.querySelector('#df-04cf8b1a-3777-45d2-8d91-701910a37f0c');\n",
              "        const dataTable =\n",
              "          await google.colab.kernel.invokeFunction('convertToInteractive',\n",
              "                                                    [key], {});\n",
              "        if (!dataTable) return;\n",
              "\n",
              "        const docLinkHtml = 'Like what you see? Visit the ' +\n",
              "          '<a target=\"_blank\" href=https://colab.research.google.com/notebooks/data_table.ipynb>data table notebook</a>'\n",
              "          + ' to learn more about interactive tables.';\n",
              "        element.innerHTML = '';\n",
              "        dataTable['output_type'] = 'display_data';\n",
              "        await google.colab.output.renderOutput(dataTable, element);\n",
              "        const docLink = document.createElement('div');\n",
              "        docLink.innerHTML = docLinkHtml;\n",
              "        element.appendChild(docLink);\n",
              "      }\n",
              "    </script>\n",
              "  </div>\n",
              "\n",
              "\n",
              "<div id=\"df-cfdaef8c-6226-4071-be5c-cd6aa9c7baee\">\n",
              "  <button class=\"colab-df-quickchart\" onclick=\"quickchart('df-cfdaef8c-6226-4071-be5c-cd6aa9c7baee')\"\n",
              "            title=\"Suggest charts\"\n",
              "            style=\"display:none;\">\n",
              "\n",
              "<svg xmlns=\"http://www.w3.org/2000/svg\" height=\"24px\"viewBox=\"0 0 24 24\"\n",
              "     width=\"24px\">\n",
              "    <g>\n",
              "        <path d=\"M19 3H5c-1.1 0-2 .9-2 2v14c0 1.1.9 2 2 2h14c1.1 0 2-.9 2-2V5c0-1.1-.9-2-2-2zM9 17H7v-7h2v7zm4 0h-2V7h2v10zm4 0h-2v-4h2v4z\"/>\n",
              "    </g>\n",
              "</svg>\n",
              "  </button>\n",
              "\n",
              "<style>\n",
              "  .colab-df-quickchart {\n",
              "      --bg-color: #E8F0FE;\n",
              "      --fill-color: #1967D2;\n",
              "      --hover-bg-color: #E2EBFA;\n",
              "      --hover-fill-color: #174EA6;\n",
              "      --disabled-fill-color: #AAA;\n",
              "      --disabled-bg-color: #DDD;\n",
              "  }\n",
              "\n",
              "  [theme=dark] .colab-df-quickchart {\n",
              "      --bg-color: #3B4455;\n",
              "      --fill-color: #D2E3FC;\n",
              "      --hover-bg-color: #434B5C;\n",
              "      --hover-fill-color: #FFFFFF;\n",
              "      --disabled-bg-color: #3B4455;\n",
              "      --disabled-fill-color: #666;\n",
              "  }\n",
              "\n",
              "  .colab-df-quickchart {\n",
              "    background-color: var(--bg-color);\n",
              "    border: none;\n",
              "    border-radius: 50%;\n",
              "    cursor: pointer;\n",
              "    display: none;\n",
              "    fill: var(--fill-color);\n",
              "    height: 32px;\n",
              "    padding: 0;\n",
              "    width: 32px;\n",
              "  }\n",
              "\n",
              "  .colab-df-quickchart:hover {\n",
              "    background-color: var(--hover-bg-color);\n",
              "    box-shadow: 0 1px 2px rgba(60, 64, 67, 0.3), 0 1px 3px 1px rgba(60, 64, 67, 0.15);\n",
              "    fill: var(--button-hover-fill-color);\n",
              "  }\n",
              "\n",
              "  .colab-df-quickchart-complete:disabled,\n",
              "  .colab-df-quickchart-complete:disabled:hover {\n",
              "    background-color: var(--disabled-bg-color);\n",
              "    fill: var(--disabled-fill-color);\n",
              "    box-shadow: none;\n",
              "  }\n",
              "\n",
              "  .colab-df-spinner {\n",
              "    border: 2px solid var(--fill-color);\n",
              "    border-color: transparent;\n",
              "    border-bottom-color: var(--fill-color);\n",
              "    animation:\n",
              "      spin 1s steps(1) infinite;\n",
              "  }\n",
              "\n",
              "  @keyframes spin {\n",
              "    0% {\n",
              "      border-color: transparent;\n",
              "      border-bottom-color: var(--fill-color);\n",
              "      border-left-color: var(--fill-color);\n",
              "    }\n",
              "    20% {\n",
              "      border-color: transparent;\n",
              "      border-left-color: var(--fill-color);\n",
              "      border-top-color: var(--fill-color);\n",
              "    }\n",
              "    30% {\n",
              "      border-color: transparent;\n",
              "      border-left-color: var(--fill-color);\n",
              "      border-top-color: var(--fill-color);\n",
              "      border-right-color: var(--fill-color);\n",
              "    }\n",
              "    40% {\n",
              "      border-color: transparent;\n",
              "      border-right-color: var(--fill-color);\n",
              "      border-top-color: var(--fill-color);\n",
              "    }\n",
              "    60% {\n",
              "      border-color: transparent;\n",
              "      border-right-color: var(--fill-color);\n",
              "    }\n",
              "    80% {\n",
              "      border-color: transparent;\n",
              "      border-right-color: var(--fill-color);\n",
              "      border-bottom-color: var(--fill-color);\n",
              "    }\n",
              "    90% {\n",
              "      border-color: transparent;\n",
              "      border-bottom-color: var(--fill-color);\n",
              "    }\n",
              "  }\n",
              "</style>\n",
              "\n",
              "  <script>\n",
              "    async function quickchart(key) {\n",
              "      const quickchartButtonEl =\n",
              "        document.querySelector('#' + key + ' button');\n",
              "      quickchartButtonEl.disabled = true;  // To prevent multiple clicks.\n",
              "      quickchartButtonEl.classList.add('colab-df-spinner');\n",
              "      try {\n",
              "        const charts = await google.colab.kernel.invokeFunction(\n",
              "            'suggestCharts', [key], {});\n",
              "      } catch (error) {\n",
              "        console.error('Error during call to suggestCharts:', error);\n",
              "      }\n",
              "      quickchartButtonEl.classList.remove('colab-df-spinner');\n",
              "      quickchartButtonEl.classList.add('colab-df-quickchart-complete');\n",
              "    }\n",
              "    (() => {\n",
              "      let quickchartButtonEl =\n",
              "        document.querySelector('#df-cfdaef8c-6226-4071-be5c-cd6aa9c7baee button');\n",
              "      quickchartButtonEl.style.display =\n",
              "        google.colab.kernel.accessAllowed ? 'block' : 'none';\n",
              "    })();\n",
              "  </script>\n",
              "</div>\n",
              "    </div>\n",
              "  </div>\n"
            ]
          },
          "metadata": {},
          "execution_count": 6
        }
      ]
    },
    {
      "cell_type": "markdown",
      "source": [
        "**Anatomy of a DataFrame**  \n",
        "\n",
        "The DataFrame is comprised of 3 primary components:\n",
        "\n",
        "* the column names in bold font in the top row.\n",
        "* the original raw data values are stored in the grid in the center.\n",
        "* an index for each row in bold on the left.\n",
        "We can access these 3 components as attributes for our DataFrame.\n",
        "\n",
        "An attribute is a variable that is stored within another object. We access attributes using dot notation, similar to how we use a function stored inside a package. We do not use parenthesis when accessing an attribute.\n",
        "\n",
        "You can access the three primary components of a dataframe individually using the following code:"
      ],
      "metadata": {
        "id": "5mtby9-YWy1K"
      }
    },
    {
      "cell_type": "code",
      "source": [
        "# a special list with the names of each column\n",
        "shop_df.columns"
      ],
      "metadata": {
        "id": "nBUeBOfHXEoV",
        "colab": {
          "base_uri": "https://localhost:8080/"
        },
        "outputId": "a501f196-08fe-450a-82a0-2bb9e3146a9a"
      },
      "execution_count": null,
      "outputs": [
        {
          "output_type": "execute_result",
          "data": {
            "text/plain": [
              "Index(['Name', 'Price', 'Quantity Sold'], dtype='object')"
            ]
          },
          "metadata": {},
          "execution_count": 7
        }
      ]
    },
    {
      "cell_type": "code",
      "source": [
        "# the raw data in a numpy array\n",
        "shop_df.values"
      ],
      "metadata": {
        "id": "-f30w3NvXKaZ",
        "colab": {
          "base_uri": "https://localhost:8080/"
        },
        "outputId": "7dc97bd7-4259-4d05-b2dc-78506a373ddb"
      },
      "execution_count": null,
      "outputs": [
        {
          "output_type": "execute_result",
          "data": {
            "text/plain": [
              "array([['brownie', 2.25, 17],\n",
              "       ['cookie', 1.25, 40],\n",
              "       ['cake', 9.5, 1],\n",
              "       ['cupcake', 3.5, 10]], dtype=object)"
            ]
          },
          "metadata": {},
          "execution_count": 8
        }
      ]
    },
    {
      "cell_type": "code",
      "source": [
        "# a special list with the row names (index)\n",
        "shop_df.index"
      ],
      "metadata": {
        "id": "uWXB2qGFXYzv",
        "colab": {
          "base_uri": "https://localhost:8080/"
        },
        "outputId": "1b6fde32-a784-47e4-bdfe-1a10acd40e73"
      },
      "execution_count": null,
      "outputs": [
        {
          "output_type": "execute_result",
          "data": {
            "text/plain": [
              "RangeIndex(start=0, stop=4, step=1)"
            ]
          },
          "metadata": {},
          "execution_count": 9
        }
      ]
    },
    {
      "cell_type": "markdown",
      "source": [
        "### Loading Data with Pandas\n",
        "\n",
        "We shall use the [Boston Housing Dataset](https://www.cs.toronto.edu/~delve/data/boston/bostonDetail.html).   \n",
        "A [modified version](https://github.com/selva86/datasets/blob/master/BostonHousing.csv) can be found here"
      ],
      "metadata": {
        "id": "3EqcgqjeXmiR"
      }
    },
    {
      "cell_type": "code",
      "source": [
        "# Loading data from google drive\n",
        "# Mount your drive\n",
        "from google.colab import drive\n",
        "drive.mount('/content/drive')"
      ],
      "metadata": {
        "id": "0o-XVZAJVJe2",
        "colab": {
          "base_uri": "https://localhost:8080/"
        },
        "outputId": "c6cbf2b4-e3cd-4d0e-9d8c-7a3deb11179f"
      },
      "execution_count": null,
      "outputs": [
        {
          "output_type": "stream",
          "name": "stdout",
          "text": [
            "Mounted at /content/drive\n"
          ]
        }
      ]
    },
    {
      "cell_type": "code",
      "source": [
        "# Loading Data\n",
        "# filename = \"bostonHousing1978 (1).csv\"\n",
        "filename=\"https://raw.githubusercontent.com/selva86/datasets/master/BostonHousing.csv\"\n",
        "df = pd.read_csv(filename)\n",
        "# pd.rea_csv(\"/content/drive/MyDrive/test_images/bostonHousing1978.csv\")"
      ],
      "metadata": {
        "id": "kQ60KJsnY5Fb"
      },
      "execution_count": null,
      "outputs": []
    },
    {
      "cell_type": "code",
      "source": [
        "# print(filename)\n",
        "type(df)"
      ],
      "metadata": {
        "id": "xjkB4VK2Xm5T",
        "colab": {
          "base_uri": "https://localhost:8080/"
        },
        "outputId": "27e2c323-360d-4547-d542-2b5fb3464237"
      },
      "execution_count": null,
      "outputs": [
        {
          "output_type": "execute_result",
          "data": {
            "text/plain": [
              "pandas.core.frame.DataFrame"
            ]
          },
          "metadata": {},
          "execution_count": 12
        }
      ]
    },
    {
      "cell_type": "code",
      "source": [
        "# What is stored in df\n",
        "df"
      ],
      "metadata": {
        "id": "NuBQcSJCayAV",
        "colab": {
          "base_uri": "https://localhost:8080/",
          "height": 423
        },
        "outputId": "aef565a8-eb89-4d13-ccde-9a4bd773f5c2"
      },
      "execution_count": null,
      "outputs": [
        {
          "output_type": "execute_result",
          "data": {
            "text/plain": [
              "        crim    zn  indus  chas    nox     rm   age     dis  rad  tax  \\\n",
              "0    0.00632  18.0   2.31     0  0.538  6.575  65.2  4.0900    1  296   \n",
              "1    0.02731   0.0   7.07     0  0.469  6.421  78.9  4.9671    2  242   \n",
              "2    0.02729   0.0   7.07     0  0.469  7.185  61.1  4.9671    2  242   \n",
              "3    0.03237   0.0   2.18     0  0.458  6.998  45.8  6.0622    3  222   \n",
              "4    0.06905   0.0   2.18     0  0.458  7.147  54.2  6.0622    3  222   \n",
              "..       ...   ...    ...   ...    ...    ...   ...     ...  ...  ...   \n",
              "501  0.06263   0.0  11.93     0  0.573  6.593  69.1  2.4786    1  273   \n",
              "502  0.04527   0.0  11.93     0  0.573  6.120  76.7  2.2875    1  273   \n",
              "503  0.06076   0.0  11.93     0  0.573  6.976  91.0  2.1675    1  273   \n",
              "504  0.10959   0.0  11.93     0  0.573  6.794  89.3  2.3889    1  273   \n",
              "505  0.04741   0.0  11.93     0  0.573  6.030  80.8  2.5050    1  273   \n",
              "\n",
              "     ptratio       b  lstat  medv  \n",
              "0       15.3  396.90   4.98  24.0  \n",
              "1       17.8  396.90   9.14  21.6  \n",
              "2       17.8  392.83   4.03  34.7  \n",
              "3       18.7  394.63   2.94  33.4  \n",
              "4       18.7  396.90   5.33  36.2  \n",
              "..       ...     ...    ...   ...  \n",
              "501     21.0  391.99   9.67  22.4  \n",
              "502     21.0  396.90   9.08  20.6  \n",
              "503     21.0  396.90   5.64  23.9  \n",
              "504     21.0  393.45   6.48  22.0  \n",
              "505     21.0  396.90   7.88  11.9  \n",
              "\n",
              "[506 rows x 14 columns]"
            ],
            "text/html": [
              "\n",
              "  <div id=\"df-7f849c44-531a-48be-8b19-3b0a62da15bd\" class=\"colab-df-container\">\n",
              "    <div>\n",
              "<style scoped>\n",
              "    .dataframe tbody tr th:only-of-type {\n",
              "        vertical-align: middle;\n",
              "    }\n",
              "\n",
              "    .dataframe tbody tr th {\n",
              "        vertical-align: top;\n",
              "    }\n",
              "\n",
              "    .dataframe thead th {\n",
              "        text-align: right;\n",
              "    }\n",
              "</style>\n",
              "<table border=\"1\" class=\"dataframe\">\n",
              "  <thead>\n",
              "    <tr style=\"text-align: right;\">\n",
              "      <th></th>\n",
              "      <th>crim</th>\n",
              "      <th>zn</th>\n",
              "      <th>indus</th>\n",
              "      <th>chas</th>\n",
              "      <th>nox</th>\n",
              "      <th>rm</th>\n",
              "      <th>age</th>\n",
              "      <th>dis</th>\n",
              "      <th>rad</th>\n",
              "      <th>tax</th>\n",
              "      <th>ptratio</th>\n",
              "      <th>b</th>\n",
              "      <th>lstat</th>\n",
              "      <th>medv</th>\n",
              "    </tr>\n",
              "  </thead>\n",
              "  <tbody>\n",
              "    <tr>\n",
              "      <th>0</th>\n",
              "      <td>0.00632</td>\n",
              "      <td>18.0</td>\n",
              "      <td>2.31</td>\n",
              "      <td>0</td>\n",
              "      <td>0.538</td>\n",
              "      <td>6.575</td>\n",
              "      <td>65.2</td>\n",
              "      <td>4.0900</td>\n",
              "      <td>1</td>\n",
              "      <td>296</td>\n",
              "      <td>15.3</td>\n",
              "      <td>396.90</td>\n",
              "      <td>4.98</td>\n",
              "      <td>24.0</td>\n",
              "    </tr>\n",
              "    <tr>\n",
              "      <th>1</th>\n",
              "      <td>0.02731</td>\n",
              "      <td>0.0</td>\n",
              "      <td>7.07</td>\n",
              "      <td>0</td>\n",
              "      <td>0.469</td>\n",
              "      <td>6.421</td>\n",
              "      <td>78.9</td>\n",
              "      <td>4.9671</td>\n",
              "      <td>2</td>\n",
              "      <td>242</td>\n",
              "      <td>17.8</td>\n",
              "      <td>396.90</td>\n",
              "      <td>9.14</td>\n",
              "      <td>21.6</td>\n",
              "    </tr>\n",
              "    <tr>\n",
              "      <th>2</th>\n",
              "      <td>0.02729</td>\n",
              "      <td>0.0</td>\n",
              "      <td>7.07</td>\n",
              "      <td>0</td>\n",
              "      <td>0.469</td>\n",
              "      <td>7.185</td>\n",
              "      <td>61.1</td>\n",
              "      <td>4.9671</td>\n",
              "      <td>2</td>\n",
              "      <td>242</td>\n",
              "      <td>17.8</td>\n",
              "      <td>392.83</td>\n",
              "      <td>4.03</td>\n",
              "      <td>34.7</td>\n",
              "    </tr>\n",
              "    <tr>\n",
              "      <th>3</th>\n",
              "      <td>0.03237</td>\n",
              "      <td>0.0</td>\n",
              "      <td>2.18</td>\n",
              "      <td>0</td>\n",
              "      <td>0.458</td>\n",
              "      <td>6.998</td>\n",
              "      <td>45.8</td>\n",
              "      <td>6.0622</td>\n",
              "      <td>3</td>\n",
              "      <td>222</td>\n",
              "      <td>18.7</td>\n",
              "      <td>394.63</td>\n",
              "      <td>2.94</td>\n",
              "      <td>33.4</td>\n",
              "    </tr>\n",
              "    <tr>\n",
              "      <th>4</th>\n",
              "      <td>0.06905</td>\n",
              "      <td>0.0</td>\n",
              "      <td>2.18</td>\n",
              "      <td>0</td>\n",
              "      <td>0.458</td>\n",
              "      <td>7.147</td>\n",
              "      <td>54.2</td>\n",
              "      <td>6.0622</td>\n",
              "      <td>3</td>\n",
              "      <td>222</td>\n",
              "      <td>18.7</td>\n",
              "      <td>396.90</td>\n",
              "      <td>5.33</td>\n",
              "      <td>36.2</td>\n",
              "    </tr>\n",
              "    <tr>\n",
              "      <th>...</th>\n",
              "      <td>...</td>\n",
              "      <td>...</td>\n",
              "      <td>...</td>\n",
              "      <td>...</td>\n",
              "      <td>...</td>\n",
              "      <td>...</td>\n",
              "      <td>...</td>\n",
              "      <td>...</td>\n",
              "      <td>...</td>\n",
              "      <td>...</td>\n",
              "      <td>...</td>\n",
              "      <td>...</td>\n",
              "      <td>...</td>\n",
              "      <td>...</td>\n",
              "    </tr>\n",
              "    <tr>\n",
              "      <th>501</th>\n",
              "      <td>0.06263</td>\n",
              "      <td>0.0</td>\n",
              "      <td>11.93</td>\n",
              "      <td>0</td>\n",
              "      <td>0.573</td>\n",
              "      <td>6.593</td>\n",
              "      <td>69.1</td>\n",
              "      <td>2.4786</td>\n",
              "      <td>1</td>\n",
              "      <td>273</td>\n",
              "      <td>21.0</td>\n",
              "      <td>391.99</td>\n",
              "      <td>9.67</td>\n",
              "      <td>22.4</td>\n",
              "    </tr>\n",
              "    <tr>\n",
              "      <th>502</th>\n",
              "      <td>0.04527</td>\n",
              "      <td>0.0</td>\n",
              "      <td>11.93</td>\n",
              "      <td>0</td>\n",
              "      <td>0.573</td>\n",
              "      <td>6.120</td>\n",
              "      <td>76.7</td>\n",
              "      <td>2.2875</td>\n",
              "      <td>1</td>\n",
              "      <td>273</td>\n",
              "      <td>21.0</td>\n",
              "      <td>396.90</td>\n",
              "      <td>9.08</td>\n",
              "      <td>20.6</td>\n",
              "    </tr>\n",
              "    <tr>\n",
              "      <th>503</th>\n",
              "      <td>0.06076</td>\n",
              "      <td>0.0</td>\n",
              "      <td>11.93</td>\n",
              "      <td>0</td>\n",
              "      <td>0.573</td>\n",
              "      <td>6.976</td>\n",
              "      <td>91.0</td>\n",
              "      <td>2.1675</td>\n",
              "      <td>1</td>\n",
              "      <td>273</td>\n",
              "      <td>21.0</td>\n",
              "      <td>396.90</td>\n",
              "      <td>5.64</td>\n",
              "      <td>23.9</td>\n",
              "    </tr>\n",
              "    <tr>\n",
              "      <th>504</th>\n",
              "      <td>0.10959</td>\n",
              "      <td>0.0</td>\n",
              "      <td>11.93</td>\n",
              "      <td>0</td>\n",
              "      <td>0.573</td>\n",
              "      <td>6.794</td>\n",
              "      <td>89.3</td>\n",
              "      <td>2.3889</td>\n",
              "      <td>1</td>\n",
              "      <td>273</td>\n",
              "      <td>21.0</td>\n",
              "      <td>393.45</td>\n",
              "      <td>6.48</td>\n",
              "      <td>22.0</td>\n",
              "    </tr>\n",
              "    <tr>\n",
              "      <th>505</th>\n",
              "      <td>0.04741</td>\n",
              "      <td>0.0</td>\n",
              "      <td>11.93</td>\n",
              "      <td>0</td>\n",
              "      <td>0.573</td>\n",
              "      <td>6.030</td>\n",
              "      <td>80.8</td>\n",
              "      <td>2.5050</td>\n",
              "      <td>1</td>\n",
              "      <td>273</td>\n",
              "      <td>21.0</td>\n",
              "      <td>396.90</td>\n",
              "      <td>7.88</td>\n",
              "      <td>11.9</td>\n",
              "    </tr>\n",
              "  </tbody>\n",
              "</table>\n",
              "<p>506 rows × 14 columns</p>\n",
              "</div>\n",
              "    <div class=\"colab-df-buttons\">\n",
              "\n",
              "  <div class=\"colab-df-container\">\n",
              "    <button class=\"colab-df-convert\" onclick=\"convertToInteractive('df-7f849c44-531a-48be-8b19-3b0a62da15bd')\"\n",
              "            title=\"Convert this dataframe to an interactive table.\"\n",
              "            style=\"display:none;\">\n",
              "\n",
              "  <svg xmlns=\"http://www.w3.org/2000/svg\" height=\"24px\" viewBox=\"0 -960 960 960\">\n",
              "    <path d=\"M120-120v-720h720v720H120Zm60-500h600v-160H180v160Zm220 220h160v-160H400v160Zm0 220h160v-160H400v160ZM180-400h160v-160H180v160Zm440 0h160v-160H620v160ZM180-180h160v-160H180v160Zm440 0h160v-160H620v160Z\"/>\n",
              "  </svg>\n",
              "    </button>\n",
              "\n",
              "  <style>\n",
              "    .colab-df-container {\n",
              "      display:flex;\n",
              "      gap: 12px;\n",
              "    }\n",
              "\n",
              "    .colab-df-convert {\n",
              "      background-color: #E8F0FE;\n",
              "      border: none;\n",
              "      border-radius: 50%;\n",
              "      cursor: pointer;\n",
              "      display: none;\n",
              "      fill: #1967D2;\n",
              "      height: 32px;\n",
              "      padding: 0 0 0 0;\n",
              "      width: 32px;\n",
              "    }\n",
              "\n",
              "    .colab-df-convert:hover {\n",
              "      background-color: #E2EBFA;\n",
              "      box-shadow: 0px 1px 2px rgba(60, 64, 67, 0.3), 0px 1px 3px 1px rgba(60, 64, 67, 0.15);\n",
              "      fill: #174EA6;\n",
              "    }\n",
              "\n",
              "    .colab-df-buttons div {\n",
              "      margin-bottom: 4px;\n",
              "    }\n",
              "\n",
              "    [theme=dark] .colab-df-convert {\n",
              "      background-color: #3B4455;\n",
              "      fill: #D2E3FC;\n",
              "    }\n",
              "\n",
              "    [theme=dark] .colab-df-convert:hover {\n",
              "      background-color: #434B5C;\n",
              "      box-shadow: 0px 1px 3px 1px rgba(0, 0, 0, 0.15);\n",
              "      filter: drop-shadow(0px 1px 2px rgba(0, 0, 0, 0.3));\n",
              "      fill: #FFFFFF;\n",
              "    }\n",
              "  </style>\n",
              "\n",
              "    <script>\n",
              "      const buttonEl =\n",
              "        document.querySelector('#df-7f849c44-531a-48be-8b19-3b0a62da15bd button.colab-df-convert');\n",
              "      buttonEl.style.display =\n",
              "        google.colab.kernel.accessAllowed ? 'block' : 'none';\n",
              "\n",
              "      async function convertToInteractive(key) {\n",
              "        const element = document.querySelector('#df-7f849c44-531a-48be-8b19-3b0a62da15bd');\n",
              "        const dataTable =\n",
              "          await google.colab.kernel.invokeFunction('convertToInteractive',\n",
              "                                                    [key], {});\n",
              "        if (!dataTable) return;\n",
              "\n",
              "        const docLinkHtml = 'Like what you see? Visit the ' +\n",
              "          '<a target=\"_blank\" href=https://colab.research.google.com/notebooks/data_table.ipynb>data table notebook</a>'\n",
              "          + ' to learn more about interactive tables.';\n",
              "        element.innerHTML = '';\n",
              "        dataTable['output_type'] = 'display_data';\n",
              "        await google.colab.output.renderOutput(dataTable, element);\n",
              "        const docLink = document.createElement('div');\n",
              "        docLink.innerHTML = docLinkHtml;\n",
              "        element.appendChild(docLink);\n",
              "      }\n",
              "    </script>\n",
              "  </div>\n",
              "\n",
              "\n",
              "<div id=\"df-3666ca25-fd5c-460c-a89c-769228ec7bf9\">\n",
              "  <button class=\"colab-df-quickchart\" onclick=\"quickchart('df-3666ca25-fd5c-460c-a89c-769228ec7bf9')\"\n",
              "            title=\"Suggest charts\"\n",
              "            style=\"display:none;\">\n",
              "\n",
              "<svg xmlns=\"http://www.w3.org/2000/svg\" height=\"24px\"viewBox=\"0 0 24 24\"\n",
              "     width=\"24px\">\n",
              "    <g>\n",
              "        <path d=\"M19 3H5c-1.1 0-2 .9-2 2v14c0 1.1.9 2 2 2h14c1.1 0 2-.9 2-2V5c0-1.1-.9-2-2-2zM9 17H7v-7h2v7zm4 0h-2V7h2v10zm4 0h-2v-4h2v4z\"/>\n",
              "    </g>\n",
              "</svg>\n",
              "  </button>\n",
              "\n",
              "<style>\n",
              "  .colab-df-quickchart {\n",
              "      --bg-color: #E8F0FE;\n",
              "      --fill-color: #1967D2;\n",
              "      --hover-bg-color: #E2EBFA;\n",
              "      --hover-fill-color: #174EA6;\n",
              "      --disabled-fill-color: #AAA;\n",
              "      --disabled-bg-color: #DDD;\n",
              "  }\n",
              "\n",
              "  [theme=dark] .colab-df-quickchart {\n",
              "      --bg-color: #3B4455;\n",
              "      --fill-color: #D2E3FC;\n",
              "      --hover-bg-color: #434B5C;\n",
              "      --hover-fill-color: #FFFFFF;\n",
              "      --disabled-bg-color: #3B4455;\n",
              "      --disabled-fill-color: #666;\n",
              "  }\n",
              "\n",
              "  .colab-df-quickchart {\n",
              "    background-color: var(--bg-color);\n",
              "    border: none;\n",
              "    border-radius: 50%;\n",
              "    cursor: pointer;\n",
              "    display: none;\n",
              "    fill: var(--fill-color);\n",
              "    height: 32px;\n",
              "    padding: 0;\n",
              "    width: 32px;\n",
              "  }\n",
              "\n",
              "  .colab-df-quickchart:hover {\n",
              "    background-color: var(--hover-bg-color);\n",
              "    box-shadow: 0 1px 2px rgba(60, 64, 67, 0.3), 0 1px 3px 1px rgba(60, 64, 67, 0.15);\n",
              "    fill: var(--button-hover-fill-color);\n",
              "  }\n",
              "\n",
              "  .colab-df-quickchart-complete:disabled,\n",
              "  .colab-df-quickchart-complete:disabled:hover {\n",
              "    background-color: var(--disabled-bg-color);\n",
              "    fill: var(--disabled-fill-color);\n",
              "    box-shadow: none;\n",
              "  }\n",
              "\n",
              "  .colab-df-spinner {\n",
              "    border: 2px solid var(--fill-color);\n",
              "    border-color: transparent;\n",
              "    border-bottom-color: var(--fill-color);\n",
              "    animation:\n",
              "      spin 1s steps(1) infinite;\n",
              "  }\n",
              "\n",
              "  @keyframes spin {\n",
              "    0% {\n",
              "      border-color: transparent;\n",
              "      border-bottom-color: var(--fill-color);\n",
              "      border-left-color: var(--fill-color);\n",
              "    }\n",
              "    20% {\n",
              "      border-color: transparent;\n",
              "      border-left-color: var(--fill-color);\n",
              "      border-top-color: var(--fill-color);\n",
              "    }\n",
              "    30% {\n",
              "      border-color: transparent;\n",
              "      border-left-color: var(--fill-color);\n",
              "      border-top-color: var(--fill-color);\n",
              "      border-right-color: var(--fill-color);\n",
              "    }\n",
              "    40% {\n",
              "      border-color: transparent;\n",
              "      border-right-color: var(--fill-color);\n",
              "      border-top-color: var(--fill-color);\n",
              "    }\n",
              "    60% {\n",
              "      border-color: transparent;\n",
              "      border-right-color: var(--fill-color);\n",
              "    }\n",
              "    80% {\n",
              "      border-color: transparent;\n",
              "      border-right-color: var(--fill-color);\n",
              "      border-bottom-color: var(--fill-color);\n",
              "    }\n",
              "    90% {\n",
              "      border-color: transparent;\n",
              "      border-bottom-color: var(--fill-color);\n",
              "    }\n",
              "  }\n",
              "</style>\n",
              "\n",
              "  <script>\n",
              "    async function quickchart(key) {\n",
              "      const quickchartButtonEl =\n",
              "        document.querySelector('#' + key + ' button');\n",
              "      quickchartButtonEl.disabled = true;  // To prevent multiple clicks.\n",
              "      quickchartButtonEl.classList.add('colab-df-spinner');\n",
              "      try {\n",
              "        const charts = await google.colab.kernel.invokeFunction(\n",
              "            'suggestCharts', [key], {});\n",
              "      } catch (error) {\n",
              "        console.error('Error during call to suggestCharts:', error);\n",
              "      }\n",
              "      quickchartButtonEl.classList.remove('colab-df-spinner');\n",
              "      quickchartButtonEl.classList.add('colab-df-quickchart-complete');\n",
              "    }\n",
              "    (() => {\n",
              "      let quickchartButtonEl =\n",
              "        document.querySelector('#df-3666ca25-fd5c-460c-a89c-769228ec7bf9 button');\n",
              "      quickchartButtonEl.style.display =\n",
              "        google.colab.kernel.accessAllowed ? 'block' : 'none';\n",
              "    })();\n",
              "  </script>\n",
              "</div>\n",
              "    </div>\n",
              "  </div>\n"
            ]
          },
          "metadata": {},
          "execution_count": 13
        }
      ]
    },
    {
      "cell_type": "markdown",
      "source": [
        "We can see that pandas shows us a visual tabular perspective of the data. Here df is a dataframe containing the data organized by column and rows"
      ],
      "metadata": {
        "id": "3Muvsk9Aa_Hi"
      }
    },
    {
      "cell_type": "markdown",
      "source": [
        "### Basic operations"
      ],
      "metadata": {
        "id": "GtnejIRtc1_N"
      }
    },
    {
      "cell_type": "markdown",
      "source": [
        "Let's explore some of the basic methods and attributes of a dataframe that you will commonly use."
      ],
      "metadata": {
        "id": "-B8Q6_Q5bhvr"
      }
    },
    {
      "cell_type": "code",
      "source": [
        "# Showing the first and last rows usinf the dataframe.head() method.\n",
        "# By default this shows the first 5 rows in the dataframe\n",
        "df.head()"
      ],
      "metadata": {
        "id": "X_ejl3lza91C",
        "colab": {
          "base_uri": "https://localhost:8080/",
          "height": 206
        },
        "outputId": "0be18606-6182-4c95-e774-f00b6cd163bc"
      },
      "execution_count": null,
      "outputs": [
        {
          "output_type": "execute_result",
          "data": {
            "text/plain": [
              "      crim    zn  indus  chas    nox     rm   age     dis  rad  tax  ptratio  \\\n",
              "0  0.00632  18.0   2.31     0  0.538  6.575  65.2  4.0900    1  296     15.3   \n",
              "1  0.02731   0.0   7.07     0  0.469  6.421  78.9  4.9671    2  242     17.8   \n",
              "2  0.02729   0.0   7.07     0  0.469  7.185  61.1  4.9671    2  242     17.8   \n",
              "3  0.03237   0.0   2.18     0  0.458  6.998  45.8  6.0622    3  222     18.7   \n",
              "4  0.06905   0.0   2.18     0  0.458  7.147  54.2  6.0622    3  222     18.7   \n",
              "\n",
              "        b  lstat  medv  \n",
              "0  396.90   4.98  24.0  \n",
              "1  396.90   9.14  21.6  \n",
              "2  392.83   4.03  34.7  \n",
              "3  394.63   2.94  33.4  \n",
              "4  396.90   5.33  36.2  "
            ],
            "text/html": [
              "\n",
              "  <div id=\"df-be644fef-66b1-41a0-9d31-85fd9f2f2955\" class=\"colab-df-container\">\n",
              "    <div>\n",
              "<style scoped>\n",
              "    .dataframe tbody tr th:only-of-type {\n",
              "        vertical-align: middle;\n",
              "    }\n",
              "\n",
              "    .dataframe tbody tr th {\n",
              "        vertical-align: top;\n",
              "    }\n",
              "\n",
              "    .dataframe thead th {\n",
              "        text-align: right;\n",
              "    }\n",
              "</style>\n",
              "<table border=\"1\" class=\"dataframe\">\n",
              "  <thead>\n",
              "    <tr style=\"text-align: right;\">\n",
              "      <th></th>\n",
              "      <th>crim</th>\n",
              "      <th>zn</th>\n",
              "      <th>indus</th>\n",
              "      <th>chas</th>\n",
              "      <th>nox</th>\n",
              "      <th>rm</th>\n",
              "      <th>age</th>\n",
              "      <th>dis</th>\n",
              "      <th>rad</th>\n",
              "      <th>tax</th>\n",
              "      <th>ptratio</th>\n",
              "      <th>b</th>\n",
              "      <th>lstat</th>\n",
              "      <th>medv</th>\n",
              "    </tr>\n",
              "  </thead>\n",
              "  <tbody>\n",
              "    <tr>\n",
              "      <th>0</th>\n",
              "      <td>0.00632</td>\n",
              "      <td>18.0</td>\n",
              "      <td>2.31</td>\n",
              "      <td>0</td>\n",
              "      <td>0.538</td>\n",
              "      <td>6.575</td>\n",
              "      <td>65.2</td>\n",
              "      <td>4.0900</td>\n",
              "      <td>1</td>\n",
              "      <td>296</td>\n",
              "      <td>15.3</td>\n",
              "      <td>396.90</td>\n",
              "      <td>4.98</td>\n",
              "      <td>24.0</td>\n",
              "    </tr>\n",
              "    <tr>\n",
              "      <th>1</th>\n",
              "      <td>0.02731</td>\n",
              "      <td>0.0</td>\n",
              "      <td>7.07</td>\n",
              "      <td>0</td>\n",
              "      <td>0.469</td>\n",
              "      <td>6.421</td>\n",
              "      <td>78.9</td>\n",
              "      <td>4.9671</td>\n",
              "      <td>2</td>\n",
              "      <td>242</td>\n",
              "      <td>17.8</td>\n",
              "      <td>396.90</td>\n",
              "      <td>9.14</td>\n",
              "      <td>21.6</td>\n",
              "    </tr>\n",
              "    <tr>\n",
              "      <th>2</th>\n",
              "      <td>0.02729</td>\n",
              "      <td>0.0</td>\n",
              "      <td>7.07</td>\n",
              "      <td>0</td>\n",
              "      <td>0.469</td>\n",
              "      <td>7.185</td>\n",
              "      <td>61.1</td>\n",
              "      <td>4.9671</td>\n",
              "      <td>2</td>\n",
              "      <td>242</td>\n",
              "      <td>17.8</td>\n",
              "      <td>392.83</td>\n",
              "      <td>4.03</td>\n",
              "      <td>34.7</td>\n",
              "    </tr>\n",
              "    <tr>\n",
              "      <th>3</th>\n",
              "      <td>0.03237</td>\n",
              "      <td>0.0</td>\n",
              "      <td>2.18</td>\n",
              "      <td>0</td>\n",
              "      <td>0.458</td>\n",
              "      <td>6.998</td>\n",
              "      <td>45.8</td>\n",
              "      <td>6.0622</td>\n",
              "      <td>3</td>\n",
              "      <td>222</td>\n",
              "      <td>18.7</td>\n",
              "      <td>394.63</td>\n",
              "      <td>2.94</td>\n",
              "      <td>33.4</td>\n",
              "    </tr>\n",
              "    <tr>\n",
              "      <th>4</th>\n",
              "      <td>0.06905</td>\n",
              "      <td>0.0</td>\n",
              "      <td>2.18</td>\n",
              "      <td>0</td>\n",
              "      <td>0.458</td>\n",
              "      <td>7.147</td>\n",
              "      <td>54.2</td>\n",
              "      <td>6.0622</td>\n",
              "      <td>3</td>\n",
              "      <td>222</td>\n",
              "      <td>18.7</td>\n",
              "      <td>396.90</td>\n",
              "      <td>5.33</td>\n",
              "      <td>36.2</td>\n",
              "    </tr>\n",
              "  </tbody>\n",
              "</table>\n",
              "</div>\n",
              "    <div class=\"colab-df-buttons\">\n",
              "\n",
              "  <div class=\"colab-df-container\">\n",
              "    <button class=\"colab-df-convert\" onclick=\"convertToInteractive('df-be644fef-66b1-41a0-9d31-85fd9f2f2955')\"\n",
              "            title=\"Convert this dataframe to an interactive table.\"\n",
              "            style=\"display:none;\">\n",
              "\n",
              "  <svg xmlns=\"http://www.w3.org/2000/svg\" height=\"24px\" viewBox=\"0 -960 960 960\">\n",
              "    <path d=\"M120-120v-720h720v720H120Zm60-500h600v-160H180v160Zm220 220h160v-160H400v160Zm0 220h160v-160H400v160ZM180-400h160v-160H180v160Zm440 0h160v-160H620v160ZM180-180h160v-160H180v160Zm440 0h160v-160H620v160Z\"/>\n",
              "  </svg>\n",
              "    </button>\n",
              "\n",
              "  <style>\n",
              "    .colab-df-container {\n",
              "      display:flex;\n",
              "      gap: 12px;\n",
              "    }\n",
              "\n",
              "    .colab-df-convert {\n",
              "      background-color: #E8F0FE;\n",
              "      border: none;\n",
              "      border-radius: 50%;\n",
              "      cursor: pointer;\n",
              "      display: none;\n",
              "      fill: #1967D2;\n",
              "      height: 32px;\n",
              "      padding: 0 0 0 0;\n",
              "      width: 32px;\n",
              "    }\n",
              "\n",
              "    .colab-df-convert:hover {\n",
              "      background-color: #E2EBFA;\n",
              "      box-shadow: 0px 1px 2px rgba(60, 64, 67, 0.3), 0px 1px 3px 1px rgba(60, 64, 67, 0.15);\n",
              "      fill: #174EA6;\n",
              "    }\n",
              "\n",
              "    .colab-df-buttons div {\n",
              "      margin-bottom: 4px;\n",
              "    }\n",
              "\n",
              "    [theme=dark] .colab-df-convert {\n",
              "      background-color: #3B4455;\n",
              "      fill: #D2E3FC;\n",
              "    }\n",
              "\n",
              "    [theme=dark] .colab-df-convert:hover {\n",
              "      background-color: #434B5C;\n",
              "      box-shadow: 0px 1px 3px 1px rgba(0, 0, 0, 0.15);\n",
              "      filter: drop-shadow(0px 1px 2px rgba(0, 0, 0, 0.3));\n",
              "      fill: #FFFFFF;\n",
              "    }\n",
              "  </style>\n",
              "\n",
              "    <script>\n",
              "      const buttonEl =\n",
              "        document.querySelector('#df-be644fef-66b1-41a0-9d31-85fd9f2f2955 button.colab-df-convert');\n",
              "      buttonEl.style.display =\n",
              "        google.colab.kernel.accessAllowed ? 'block' : 'none';\n",
              "\n",
              "      async function convertToInteractive(key) {\n",
              "        const element = document.querySelector('#df-be644fef-66b1-41a0-9d31-85fd9f2f2955');\n",
              "        const dataTable =\n",
              "          await google.colab.kernel.invokeFunction('convertToInteractive',\n",
              "                                                    [key], {});\n",
              "        if (!dataTable) return;\n",
              "\n",
              "        const docLinkHtml = 'Like what you see? Visit the ' +\n",
              "          '<a target=\"_blank\" href=https://colab.research.google.com/notebooks/data_table.ipynb>data table notebook</a>'\n",
              "          + ' to learn more about interactive tables.';\n",
              "        element.innerHTML = '';\n",
              "        dataTable['output_type'] = 'display_data';\n",
              "        await google.colab.output.renderOutput(dataTable, element);\n",
              "        const docLink = document.createElement('div');\n",
              "        docLink.innerHTML = docLinkHtml;\n",
              "        element.appendChild(docLink);\n",
              "      }\n",
              "    </script>\n",
              "  </div>\n",
              "\n",
              "\n",
              "<div id=\"df-304455f8-8ea6-4244-a08c-43978fbd520c\">\n",
              "  <button class=\"colab-df-quickchart\" onclick=\"quickchart('df-304455f8-8ea6-4244-a08c-43978fbd520c')\"\n",
              "            title=\"Suggest charts\"\n",
              "            style=\"display:none;\">\n",
              "\n",
              "<svg xmlns=\"http://www.w3.org/2000/svg\" height=\"24px\"viewBox=\"0 0 24 24\"\n",
              "     width=\"24px\">\n",
              "    <g>\n",
              "        <path d=\"M19 3H5c-1.1 0-2 .9-2 2v14c0 1.1.9 2 2 2h14c1.1 0 2-.9 2-2V5c0-1.1-.9-2-2-2zM9 17H7v-7h2v7zm4 0h-2V7h2v10zm4 0h-2v-4h2v4z\"/>\n",
              "    </g>\n",
              "</svg>\n",
              "  </button>\n",
              "\n",
              "<style>\n",
              "  .colab-df-quickchart {\n",
              "      --bg-color: #E8F0FE;\n",
              "      --fill-color: #1967D2;\n",
              "      --hover-bg-color: #E2EBFA;\n",
              "      --hover-fill-color: #174EA6;\n",
              "      --disabled-fill-color: #AAA;\n",
              "      --disabled-bg-color: #DDD;\n",
              "  }\n",
              "\n",
              "  [theme=dark] .colab-df-quickchart {\n",
              "      --bg-color: #3B4455;\n",
              "      --fill-color: #D2E3FC;\n",
              "      --hover-bg-color: #434B5C;\n",
              "      --hover-fill-color: #FFFFFF;\n",
              "      --disabled-bg-color: #3B4455;\n",
              "      --disabled-fill-color: #666;\n",
              "  }\n",
              "\n",
              "  .colab-df-quickchart {\n",
              "    background-color: var(--bg-color);\n",
              "    border: none;\n",
              "    border-radius: 50%;\n",
              "    cursor: pointer;\n",
              "    display: none;\n",
              "    fill: var(--fill-color);\n",
              "    height: 32px;\n",
              "    padding: 0;\n",
              "    width: 32px;\n",
              "  }\n",
              "\n",
              "  .colab-df-quickchart:hover {\n",
              "    background-color: var(--hover-bg-color);\n",
              "    box-shadow: 0 1px 2px rgba(60, 64, 67, 0.3), 0 1px 3px 1px rgba(60, 64, 67, 0.15);\n",
              "    fill: var(--button-hover-fill-color);\n",
              "  }\n",
              "\n",
              "  .colab-df-quickchart-complete:disabled,\n",
              "  .colab-df-quickchart-complete:disabled:hover {\n",
              "    background-color: var(--disabled-bg-color);\n",
              "    fill: var(--disabled-fill-color);\n",
              "    box-shadow: none;\n",
              "  }\n",
              "\n",
              "  .colab-df-spinner {\n",
              "    border: 2px solid var(--fill-color);\n",
              "    border-color: transparent;\n",
              "    border-bottom-color: var(--fill-color);\n",
              "    animation:\n",
              "      spin 1s steps(1) infinite;\n",
              "  }\n",
              "\n",
              "  @keyframes spin {\n",
              "    0% {\n",
              "      border-color: transparent;\n",
              "      border-bottom-color: var(--fill-color);\n",
              "      border-left-color: var(--fill-color);\n",
              "    }\n",
              "    20% {\n",
              "      border-color: transparent;\n",
              "      border-left-color: var(--fill-color);\n",
              "      border-top-color: var(--fill-color);\n",
              "    }\n",
              "    30% {\n",
              "      border-color: transparent;\n",
              "      border-left-color: var(--fill-color);\n",
              "      border-top-color: var(--fill-color);\n",
              "      border-right-color: var(--fill-color);\n",
              "    }\n",
              "    40% {\n",
              "      border-color: transparent;\n",
              "      border-right-color: var(--fill-color);\n",
              "      border-top-color: var(--fill-color);\n",
              "    }\n",
              "    60% {\n",
              "      border-color: transparent;\n",
              "      border-right-color: var(--fill-color);\n",
              "    }\n",
              "    80% {\n",
              "      border-color: transparent;\n",
              "      border-right-color: var(--fill-color);\n",
              "      border-bottom-color: var(--fill-color);\n",
              "    }\n",
              "    90% {\n",
              "      border-color: transparent;\n",
              "      border-bottom-color: var(--fill-color);\n",
              "    }\n",
              "  }\n",
              "</style>\n",
              "\n",
              "  <script>\n",
              "    async function quickchart(key) {\n",
              "      const quickchartButtonEl =\n",
              "        document.querySelector('#' + key + ' button');\n",
              "      quickchartButtonEl.disabled = true;  // To prevent multiple clicks.\n",
              "      quickchartButtonEl.classList.add('colab-df-spinner');\n",
              "      try {\n",
              "        const charts = await google.colab.kernel.invokeFunction(\n",
              "            'suggestCharts', [key], {});\n",
              "      } catch (error) {\n",
              "        console.error('Error during call to suggestCharts:', error);\n",
              "      }\n",
              "      quickchartButtonEl.classList.remove('colab-df-spinner');\n",
              "      quickchartButtonEl.classList.add('colab-df-quickchart-complete');\n",
              "    }\n",
              "    (() => {\n",
              "      let quickchartButtonEl =\n",
              "        document.querySelector('#df-304455f8-8ea6-4244-a08c-43978fbd520c button');\n",
              "      quickchartButtonEl.style.display =\n",
              "        google.colab.kernel.accessAllowed ? 'block' : 'none';\n",
              "    })();\n",
              "  </script>\n",
              "</div>\n",
              "    </div>\n",
              "  </div>\n"
            ]
          },
          "metadata": {},
          "execution_count": 14
        }
      ]
    },
    {
      "cell_type": "code",
      "source": [
        "# We can also pass a parameter for the number of rows we want to show\n",
        "# In the example below it will show the first 3 rows\n",
        "df.head(3)"
      ],
      "metadata": {
        "id": "-1yvawGAa4Lg"
      },
      "execution_count": null,
      "outputs": []
    },
    {
      "cell_type": "code",
      "source": [
        "# Showing the last 5 rows with dataframe.tail() method.\n",
        "df.tail()"
      ],
      "metadata": {
        "id": "G_l0-A5IcSlV"
      },
      "execution_count": null,
      "outputs": []
    },
    {
      "cell_type": "code",
      "source": [
        "# How can we show the last 3 rows?\n",
        "# Write your code here\n",
        "df.tail(3)"
      ],
      "metadata": {
        "id": "Y9cmMRbocc34"
      },
      "execution_count": null,
      "outputs": []
    },
    {
      "cell_type": "code",
      "source": [
        "# Getting information about the dataframe using the .info() method\n",
        "# This shows the number of rows each column, the data type of the data and the number of non-null values in each column.\n",
        "df.info()"
      ],
      "metadata": {
        "id": "Q8De42HIchGf"
      },
      "execution_count": null,
      "outputs": []
    },
    {
      "cell_type": "code",
      "source": [
        "# Some of the common attributes are:\n",
        "df.shape\n",
        "# This returns a tuple of (number of rows, number of columns)"
      ],
      "metadata": {
        "id": "4ROlco47dBsn"
      },
      "execution_count": null,
      "outputs": []
    },
    {
      "cell_type": "code",
      "source": [
        "df.dtypes\n",
        "# This shows the datatypes of each column"
      ],
      "metadata": {
        "id": "3JpZjfmFdjkI"
      },
      "execution_count": null,
      "outputs": []
    },
    {
      "cell_type": "code",
      "source": [
        "# Column names\n",
        "df.columns"
      ],
      "metadata": {
        "id": "xxbUTiZX43hB"
      },
      "execution_count": null,
      "outputs": []
    },
    {
      "cell_type": "markdown",
      "source": [
        "Note on series and dataframes.  \n",
        "\n",
        "A Pandas **Series** is like a column in a table. It is a one-dimensional array holding data of any type.  \n",
        "\n",
        "A Pandas **DataFrame** is a 2 dimensional data structure, like a 2 dimensional array, or a table with rows and columns. A Dataframe is made up of series."
      ],
      "metadata": {
        "id": "fGL9U4bJd-or"
      }
    },
    {
      "cell_type": "markdown",
      "source": [
        "### Slicing\n",
        "As seen earlier with lists, slicing is a common operation that will be undertaken to get part of the data."
      ],
      "metadata": {
        "id": "61IGyHH5em3E"
      }
    },
    {
      "cell_type": "markdown",
      "source": [
        "**Select columns using brackets**"
      ],
      "metadata": {
        "id": "9IcAwmYEfHDU"
      }
    },
    {
      "cell_type": "code",
      "source": [
        "# We can slice a column using square brackets like this.\n",
        "# The general notation is dataframe[<column name>]\n",
        "# First how can we view our column names.\n",
        "# df.columns\n",
        "df.head(2)"
      ],
      "metadata": {
        "id": "jQTaAmgedwn_"
      },
      "execution_count": null,
      "outputs": []
    },
    {
      "cell_type": "code",
      "source": [
        "# Let us pick the RM column\n",
        "df['rm']\n",
        "# Please note that the column names are strings, thats why we use quotes.\n",
        "# We can also use double quotes"
      ],
      "metadata": {
        "id": "9SIpJT31f7dC"
      },
      "execution_count": null,
      "outputs": []
    },
    {
      "cell_type": "code",
      "source": [
        "# The above notation will return a series, we can verify this with the type function.\n",
        "type(df['rm'])"
      ],
      "metadata": {
        "id": "5UKeBnlYgSzf"
      },
      "execution_count": null,
      "outputs": []
    },
    {
      "cell_type": "code",
      "source": [
        "# To return a dataframe, we use double square brackets i.e.\n",
        "# dataframe[[<column name>]] e.g\n",
        "df[['rm']]"
      ],
      "metadata": {
        "id": "Mco-fIIbgdK8"
      },
      "execution_count": null,
      "outputs": []
    },
    {
      "cell_type": "code",
      "source": [
        "# We can verify this using the type function\n",
        "type(df[['rm']])"
      ],
      "metadata": {
        "id": "KEI1RP1Pg3dU"
      },
      "execution_count": null,
      "outputs": []
    },
    {
      "cell_type": "markdown",
      "source": [
        "What visual differences have you observed between the sliced series and the sliced dataframe?"
      ],
      "metadata": {
        "id": "KPcfPymshAAv"
      }
    },
    {
      "cell_type": "code",
      "source": [
        "# df['rm'].shape\n",
        "# df[['rm']].shape"
      ],
      "metadata": {
        "id": "6kdcl6RBeQw-"
      },
      "execution_count": null,
      "outputs": []
    },
    {
      "cell_type": "code",
      "source": [
        "# We can also slice multiple columns. We only need to write the diffrent\n",
        "# column names separated by a comma (,) using the double brackets notation\n",
        "# i.e. dataframe[[<column name>, <column name>,...]] e.g\n",
        "df[['rm', 'lstat']]"
      ],
      "metadata": {
        "id": "mPi6RXseg89j"
      },
      "execution_count": null,
      "outputs": []
    },
    {
      "cell_type": "code",
      "source": [
        "# This returns a dataframe\n",
        "type(df[['rm', 'lstat']])"
      ],
      "metadata": {
        "id": "Z8GREf9hhqJW"
      },
      "execution_count": null,
      "outputs": []
    },
    {
      "cell_type": "code",
      "source": [
        "# We can apply the dataframe/series methods and attributes to the sliced data e.g.\n",
        "df[['rm', 'lstat']].head(3)"
      ],
      "metadata": {
        "id": "eqPPfUZQhyub"
      },
      "execution_count": null,
      "outputs": []
    },
    {
      "cell_type": "code",
      "source": [
        "# or\n",
        "df['rm'].head(3)"
      ],
      "metadata": {
        "id": "dlRvjC1Yh8co"
      },
      "execution_count": null,
      "outputs": []
    },
    {
      "cell_type": "code",
      "source": [
        "# We can also slice by column and then by row by adding square brackets and selecting a range of rows.\n",
        "df['rm'][0:5]\n",
        "# We use the notation dataframe[column_slice][row:slice]"
      ],
      "metadata": {
        "id": "UZncgv5Ljy5T"
      },
      "execution_count": null,
      "outputs": []
    },
    {
      "cell_type": "code",
      "source": [
        "# Slicing by column and index\n",
        "# df[<column slice>][<row slice>]\n",
        "df[['rm', 'lstat']][120:121]"
      ],
      "metadata": {
        "id": "BnyB79nykG0S"
      },
      "execution_count": null,
      "outputs": []
    },
    {
      "cell_type": "code",
      "source": [
        "# The row slicing is similar to list slicing so we can even use the step parameter.\n",
        "df[['rm', 'lstat']][200:212:3]"
      ],
      "metadata": {
        "id": "q3BDtrIcfQoE"
      },
      "execution_count": null,
      "outputs": []
    },
    {
      "cell_type": "code",
      "source": [
        "# We can also slice only by index\n",
        "df[3:6]"
      ],
      "metadata": {
        "id": "ixFtxuo1kNL_"
      },
      "execution_count": null,
      "outputs": []
    },
    {
      "cell_type": "code",
      "source": [
        "# Remember lists\n",
        "# my_list  = [1,2,3,4,5,6,7,8,9,10]\n",
        "# my_list[0:10:1]\n",
        "# my_list[0:10:2]"
      ],
      "metadata": {
        "id": "0-Wkx_4ARN13"
      },
      "execution_count": null,
      "outputs": []
    },
    {
      "cell_type": "code",
      "source": [
        "# Slicing entire dataframe by index with step\n",
        "df[0:10:2]"
      ],
      "metadata": {
        "id": "UwHMnG5HkY0x"
      },
      "execution_count": null,
      "outputs": []
    },
    {
      "cell_type": "code",
      "source": [
        "# We can use the dot notation for slicing series, but it is not recommended e.g.\n",
        "df.rm\n",
        "# In this case, we do not use the quotes around the column name.\n",
        "# It is similar to using calling attributes."
      ],
      "metadata": {
        "id": "cXIXuo95iVN3"
      },
      "execution_count": null,
      "outputs": []
    },
    {
      "cell_type": "code",
      "source": [
        "# We can check the type\n",
        "type(df.rm)"
      ],
      "metadata": {
        "id": "XCHm_SFZihRN"
      },
      "execution_count": null,
      "outputs": []
    },
    {
      "cell_type": "code",
      "source": [
        "# Question: How can we check if slice obtained from using the brackets notation\n",
        "# is the same as the slice obtained from using the dot notation. i.e.\n",
        "# Is df.RM the same as df['RM]\n",
        "# Hint: refer to comparison operators"
      ],
      "metadata": {
        "id": "rg0Z3T6Pioap"
      },
      "execution_count": null,
      "outputs": []
    },
    {
      "cell_type": "markdown",
      "source": [
        "**NOTE:** The dot notation has limitations e.g.\n",
        " - when the column name is the same as an inbuilt attribute\n",
        " - when there is a space in the column name"
      ],
      "metadata": {
        "id": "vQZzkJeX7eZP"
      }
    },
    {
      "cell_type": "markdown",
      "source": [
        "**Selecting columns using loc**  \n",
        "\n",
        "The loc attribute of a dataframe can be used to slice the dataframe.  \n",
        "The general notation is dataframe.loc[row/index_name/value or row slice, column_name/column slice].  \n",
        "Although loc is primarily label-based, it can also be used with a boolean array as we shall see later.\n",
        "\n"
      ],
      "metadata": {
        "id": "mkqmsVybju6w"
      }
    },
    {
      "cell_type": "code",
      "source": [
        "# Slicing the RM series\n",
        "df.loc[:, 'rm']"
      ],
      "metadata": {
        "id": "cEJ1FWXClBe_"
      },
      "execution_count": null,
      "outputs": []
    },
    {
      "cell_type": "code",
      "source": [
        "df.loc[2:5, ['rm', 'lstat']]"
      ],
      "metadata": {
        "id": "EXV1PXEsjYu_"
      },
      "execution_count": null,
      "outputs": []
    },
    {
      "cell_type": "code",
      "source": [
        "# Checking the type\n",
        "type(df.loc[:, 'rm'])"
      ],
      "metadata": {
        "id": "M5RYdEGelD_h"
      },
      "execution_count": null,
      "outputs": []
    },
    {
      "cell_type": "code",
      "source": [
        "# Getting a dataframe slice, remember we use doble brackets\n",
        "df.loc[:, ['rm']]"
      ],
      "metadata": {
        "id": "aFNkV3tMlXrE"
      },
      "execution_count": null,
      "outputs": []
    },
    {
      "cell_type": "code",
      "source": [
        "# Checking the type\n",
        "type(df.loc[:, ['rm']])"
      ],
      "metadata": {
        "id": "Iyd1AUiClktw"
      },
      "execution_count": null,
      "outputs": []
    },
    {
      "cell_type": "code",
      "source": [
        "# We can also slice multiple columns\n",
        "df.loc[:, ['rm', 'lstat']]"
      ],
      "metadata": {
        "id": "SCwXh-y-lpcX"
      },
      "execution_count": null,
      "outputs": []
    },
    {
      "cell_type": "code",
      "source": [
        "# And also use the inbuilt methods and attributes\n",
        "df.loc[:, ['rm', 'lstat']].shape"
      ],
      "metadata": {
        "id": "MR9NV2qTmNBv"
      },
      "execution_count": null,
      "outputs": []
    },
    {
      "cell_type": "markdown",
      "source": [
        "What is the first parameter (:) in the brackets. It is actually the row slicer and we can specify the indices for a specific slice or put the full colon (:), that implies that we want to get every row. The same applies for columns, we can get all columns the same way"
      ],
      "metadata": {
        "id": "3cJQxd9Uma3Q"
      }
    },
    {
      "cell_type": "code",
      "source": [
        "# Slicing rows from index 5-10\n",
        "df.loc[5:10, ['rm', 'lstat']]"
      ],
      "metadata": {
        "id": "73MJKJ7FmTsd"
      },
      "execution_count": null,
      "outputs": []
    },
    {
      "cell_type": "code",
      "source": [
        "# Another example\n",
        "df.loc[0:10:2, ['rm', 'lstat']]"
      ],
      "metadata": {
        "id": "7CKGwigqmXV4"
      },
      "execution_count": null,
      "outputs": []
    },
    {
      "cell_type": "code",
      "source": [
        "# Getting a specific row e.g row with index 2.\n",
        "df.loc[2, ['rm', 'lstat']]"
      ],
      "metadata": {
        "id": "odZ536SamzZZ"
      },
      "execution_count": null,
      "outputs": []
    },
    {
      "cell_type": "code",
      "source": [
        "# Getting all columns using the : symbol\n",
        "df.loc[:, :]"
      ],
      "metadata": {
        "id": "hvyIRNRJqWcP"
      },
      "execution_count": null,
      "outputs": []
    },
    {
      "cell_type": "code",
      "source": [
        "# Getting all columns from row 0 to 5\n",
        "df.loc[0:5, :]\n",
        "# This is the same as df[0:5] and df.loc[0:5, ['RM', 'LSTAT', 'PTRATIO', 'target']]"
      ],
      "metadata": {
        "id": "G8CeLjw7qfzQ"
      },
      "execution_count": null,
      "outputs": []
    },
    {
      "cell_type": "markdown",
      "source": [
        "### Exercise 1\n",
        "You will use the [Pima Indians Dataset](https://www.kaggle.com/datasets/uciml/pima-indians-diabetes-database) to answer the following questions.\n",
        "1. Load the data [here](https://raw.githubusercontent.com/npradaschnor/Pima-Indians-Diabetes-Dataset/master/diabetes.csv). You can use the URL directly.\n",
        "2. How many rows and columns does are in the dataset?\n",
        "3. Disply the column names.\n",
        "4. What are the datatypes of the columns?\n",
        "5. Does the dataset have null values?"
      ],
      "metadata": {
        "id": "uukVSkPnJ81X"
      }
    },
    {
      "cell_type": "markdown",
      "source": [
        "### Pandas dataframe indices explained\n",
        "\n",
        "Remeber the index is the unique ID for each row in the dataframe. Previously we have used a numerical range index but pandas indices do not need to be numbers. We shall use the shop records Dataframe to demonstrate this"
      ],
      "metadata": {
        "id": "PxE-T7Ur9exF"
      }
    },
    {
      "cell_type": "code",
      "source": [
        "# We can use the set_index method to specify the column to be used as an index and this returns a modified dataframe\n",
        "# Here we store the result in a new variable\n",
        "shop_df_mod = shop_df.set_index('Name')\n",
        "shop_df_mod"
      ],
      "metadata": {
        "id": "WhkBE-fPcQxl"
      },
      "execution_count": null,
      "outputs": []
    },
    {
      "cell_type": "code",
      "source": [
        "shop_df_mod.index"
      ],
      "metadata": {
        "id": "ZAR-uEDJ-oLd"
      },
      "execution_count": null,
      "outputs": []
    },
    {
      "cell_type": "code",
      "source": [
        "# Try to slice the Name column\n",
        "# shop_df_mod['Name']"
      ],
      "metadata": {
        "id": "4pFr8tOB_KzG"
      },
      "execution_count": null,
      "outputs": []
    },
    {
      "cell_type": "markdown",
      "source": [
        "We shall get an error because the column does not exist.\n",
        "Infact we can verify this by listing the columns   \n",
        "**Hint:** A key error when slicing is an indication of a non-existing column"
      ],
      "metadata": {
        "id": "e4VlHwkc_WX_"
      }
    },
    {
      "cell_type": "code",
      "source": [
        "# List columns\n",
        "shop_df_mod.columns"
      ],
      "metadata": {
        "id": "N494vlCb_e5p"
      },
      "execution_count": null,
      "outputs": []
    },
    {
      "cell_type": "code",
      "source": [
        "# Review: slicing 1 column\n",
        "shop_df_mod[\"Price\"]"
      ],
      "metadata": {
        "id": "xcxhuC6lPFNQ"
      },
      "execution_count": null,
      "outputs": []
    },
    {
      "cell_type": "code",
      "source": [
        "# Slice the row loc at index 2\n",
        "# We expect an error as this index does not exist\n",
        "# shop_df_mod.loc[2]"
      ],
      "metadata": {
        "id": "hasoYTgfPJff"
      },
      "execution_count": null,
      "outputs": []
    },
    {
      "cell_type": "markdown",
      "source": [
        "### Slicing Rows & Columns with .loc"
      ],
      "metadata": {
        "id": "0du1aAz0PzwO"
      }
    },
    {
      "cell_type": "code",
      "source": [
        "# Slice out the row with cake as the index\n",
        "shop_df_mod.loc['cake',:]"
      ],
      "metadata": {
        "id": "_7v3ZGxyArZd"
      },
      "execution_count": null,
      "outputs": []
    },
    {
      "cell_type": "code",
      "source": [
        "# Slice multiple rows using a list\n",
        "shop_df_mod.loc[['cake','brownie']]"
      ],
      "metadata": {
        "id": "M3aPeE0jPq9w"
      },
      "execution_count": null,
      "outputs": []
    },
    {
      "cell_type": "code",
      "source": [
        "# Slice the cupcake/cookie rows and Price/Quantity Sold columns\n",
        "shop_df_mod.loc[[\"cupcake\",\"cookie\"], [\"Price\", \"Quantity Sold\"]]"
      ],
      "metadata": {
        "id": "dWwx1zcOP2i5"
      },
      "execution_count": null,
      "outputs": []
    },
    {
      "cell_type": "markdown",
      "source": [
        "### Slicing Columns (Only) with .loc"
      ],
      "metadata": {
        "id": "Y_hgFKgMQrHm"
      }
    },
    {
      "cell_type": "code",
      "source": [
        "# Selet all rows for the Price Column\n",
        "shop_df_mod.loc[:, 'Price']"
      ],
      "metadata": {
        "id": "-Xj1VefXQqZe"
      },
      "execution_count": null,
      "outputs": []
    },
    {
      "cell_type": "code",
      "source": [
        "# Slice all rows for mulitple columns\n",
        "shop_df_mod.loc[:, [\"Price\",\"Quantity Sold\"]]\n",
        "\n"
      ],
      "metadata": {
        "id": "LQ_R6K7rQzq2"
      },
      "execution_count": null,
      "outputs": []
    },
    {
      "cell_type": "markdown",
      "source": [
        "Issue with dot Notation"
      ],
      "metadata": {
        "id": "KxLe4LpVDx7c"
      }
    },
    {
      "cell_type": "code",
      "source": [
        "# We cannot use the dot notation to get the Quantity Sold series\n",
        "# shop_df_mod.Quantity Sold"
      ],
      "metadata": {
        "id": "fjTkYySyD1vj"
      },
      "execution_count": null,
      "outputs": []
    },
    {
      "cell_type": "markdown",
      "source": [
        "# What do you understand by filtering?"
      ],
      "metadata": {
        "id": "-vWYltjvCn3g"
      }
    },
    {
      "cell_type": "markdown",
      "source": [
        "### Filtering\n",
        "Get the data for this section from [here](https://drive.google.com/file/d/1Vs4IyWyXnanJxRz9wOgwgxqgg-kNAAaT/view?usp=sharing)."
      ],
      "metadata": {
        "id": "rJjpU4lPo0b3"
      }
    },
    {
      "cell_type": "code",
      "source": [
        "# Import pandas if not already imported\n",
        "# import pandas as pd"
      ],
      "metadata": {
        "id": "vXzBiiekJY92"
      },
      "execution_count": null,
      "outputs": []
    },
    {
      "cell_type": "code",
      "source": [
        "filename1 = '/content/drive/MyDrive/AI_ML_Data_Analytics/slides/Week 1/mortgages.csv'\n",
        "df1 = pd.read_csv(filename1)"
      ],
      "metadata": {
        "id": "QVcNoznfoSth"
      },
      "execution_count": null,
      "outputs": []
    },
    {
      "cell_type": "markdown",
      "source": [
        "Let us get some basic information about our data."
      ],
      "metadata": {
        "id": "n271IjFCsuU8"
      }
    },
    {
      "cell_type": "code",
      "source": [
        "df1.head()"
      ],
      "metadata": {
        "id": "vVIEVMp4sgql"
      },
      "execution_count": null,
      "outputs": []
    },
    {
      "cell_type": "code",
      "source": [
        "# Get the number of rows and columns\n",
        "df1.shape"
      ],
      "metadata": {
        "id": "EtX0_hvcuXWr"
      },
      "execution_count": null,
      "outputs": []
    },
    {
      "cell_type": "code",
      "source": [
        "# Get information about the datatypes()\n",
        "df1.info()"
      ],
      "metadata": {
        "id": "baGJ-0NOubhS"
      },
      "execution_count": null,
      "outputs": []
    },
    {
      "cell_type": "code",
      "source": [
        "# What is the number of null values in each column"
      ],
      "metadata": {
        "id": "kZ4WgvoKu6KM"
      },
      "execution_count": null,
      "outputs": []
    },
    {
      "cell_type": "markdown",
      "source": [
        "New functions for checking null values"
      ],
      "metadata": {
        "id": "3NJfvYtHFMJY"
      }
    },
    {
      "cell_type": "code",
      "source": [
        "df1.isnull()"
      ],
      "metadata": {
        "id": "8d0YaRb1iNPE"
      },
      "execution_count": null,
      "outputs": []
    },
    {
      "cell_type": "code",
      "source": [
        "df1.isnull().count()"
      ],
      "metadata": {
        "id": "-VEhHYUahuH2"
      },
      "execution_count": null,
      "outputs": []
    },
    {
      "cell_type": "code",
      "source": [
        "df1.isnull().sum()"
      ],
      "metadata": {
        "id": "8TS7mAZIiGwt"
      },
      "execution_count": null,
      "outputs": []
    },
    {
      "cell_type": "markdown",
      "source": [
        "Note that although this dataset does not have null values, these methods will come in handy next week as we learn how to deal with missing values."
      ],
      "metadata": {
        "id": "iplnWalUFbdj"
      }
    },
    {
      "cell_type": "code",
      "source": [
        "# Let us use some new methods to ghet information about the values in the columns\n",
        "df1.columns"
      ],
      "metadata": {
        "id": "ojiUGh3bu-p9"
      },
      "execution_count": null,
      "outputs": []
    },
    {
      "cell_type": "code",
      "source": [
        "# The value_counts() methods returns the number of occurances of the\n",
        "# unique values in a series e.g.\n",
        "df1['Mortgage Name'].value_counts()"
      ],
      "metadata": {
        "id": "elL1qY2kv95U"
      },
      "execution_count": null,
      "outputs": []
    },
    {
      "cell_type": "code",
      "source": [
        "# We can also get this for the interest rate series\n",
        "df1['Interest Rate'].value_counts()"
      ],
      "metadata": {
        "id": "Hz7QN-ZiwOL5"
      },
      "execution_count": null,
      "outputs": []
    },
    {
      "cell_type": "code",
      "source": [
        "# Question: How many mortgages have a 30 Year term?"
      ],
      "metadata": {
        "id": "fT7_pFCXwgez"
      },
      "execution_count": null,
      "outputs": []
    },
    {
      "cell_type": "code",
      "source": [
        "# How do we create filters?\n",
        "# We can use comparison operators e.g >, <,  !=,...\n",
        "# E.g we can get which mortgage names are named 30 year using the equals (==) operator\n",
        "df1['Mortgage Name'] == '30 Year'\n",
        "# Notice this returns a boolean series/array based on the evaluation of the condition."
      ],
      "metadata": {
        "id": "UriRJDqaw5v3"
      },
      "execution_count": null,
      "outputs": []
    },
    {
      "cell_type": "code",
      "source": [
        "# Let us store this filter in a variable that we shall reuse later.\n",
        "mortgage_filter = df1['Mortgage Name'] == '30 Year'"
      ],
      "metadata": {
        "id": "oe2hunRCxmP7"
      },
      "execution_count": null,
      "outputs": []
    },
    {
      "cell_type": "code",
      "source": [
        "# Let us filter our dataframe.\n",
        "# 1. Filtering with square brackets\n",
        "# The general notation is dataframe[filter] and this will return a filtered data frame e.g\n",
        "df1[mortgage_filter]"
      ],
      "metadata": {
        "id": "UgsMpNmux5In"
      },
      "execution_count": null,
      "outputs": []
    },
    {
      "cell_type": "code",
      "source": [
        "# let us store this in a new variable and investigate the result\n",
        "df1_mortgage_filtered = df1[mortgage_filter]\n",
        "# We can check the value counts for the Mortgage name series\n",
        "df1_mortgage_filtered['Mortgage Name'].value_counts()\n",
        "# we can see that we only have the 30 Year value"
      ],
      "metadata": {
        "id": "-MZ2PCH2yR2u"
      },
      "execution_count": null,
      "outputs": []
    },
    {
      "cell_type": "code",
      "source": [
        "# Return data with an interest rate of 0.05\n",
        "\n",
        "# Create interest rate filter\n",
        "interest_filter = df1['Interest Rate'] == 0.05\n",
        "\n",
        "# Filter the dataframe and save in a variable\n",
        "df1_interest_filtered = df1[interest_filter]\n",
        "\n",
        "# Check the result\n",
        "df1_interest_filtered['Interest Rate'].value_counts()"
      ],
      "metadata": {
        "id": "-wTxFskTy006"
      },
      "execution_count": null,
      "outputs": []
    },
    {
      "cell_type": "code",
      "source": [
        "# We can also filter using the loc attribute.\n",
        "# The general notation is dataframe.loc[filter, columns]\n",
        "df1.loc[interest_filter, :].head()"
      ],
      "metadata": {
        "id": "YKrvVaJJz3H-"
      },
      "execution_count": null,
      "outputs": []
    },
    {
      "cell_type": "markdown",
      "source": [
        "**Combining Filters**  \n",
        "We can use Bitwise operators e.g, &, | to combine filters."
      ],
      "metadata": {
        "id": "pvLiHHho0Ryz"
      }
    },
    {
      "cell_type": "code",
      "source": [
        "# Let us combine the 2 filters above i.e\n",
        "# Get data where Mortgagename is 30 Year and interest rate is 0.05\n",
        "df_combined_filter = df1[mortgage_filter&interest_filter]\n",
        "df_combined_filter.head()"
      ],
      "metadata": {
        "id": "SutRmhS90NAp"
      },
      "execution_count": null,
      "outputs": []
    },
    {
      "cell_type": "code",
      "source": [
        "# Verify by checking value_counts for both series\n",
        "df_combined_filter['Interest Rate'].value_counts()"
      ],
      "metadata": {
        "id": "0sbMI-Kw1JOC"
      },
      "execution_count": null,
      "outputs": []
    },
    {
      "cell_type": "code",
      "source": [
        "df_combined_filter['Mortgage Name'].value_counts()"
      ],
      "metadata": {
        "id": "YDhdJqhW2Bru"
      },
      "execution_count": null,
      "outputs": []
    },
    {
      "cell_type": "code",
      "source": [
        "# Question: Show data where the mortgage name is 15 Year or interest rate is less than 0.04"
      ],
      "metadata": {
        "id": "OhMu-y6x2LlT"
      },
      "execution_count": null,
      "outputs": []
    },
    {
      "cell_type": "markdown",
      "source": [
        "# Exercise 2\n",
        "Using the Dataset from Exercise 1, answer the following questions.\n",
        "1. Show the values of centrality for the dataset.\n",
        "2. How many patients with atleast 2 **pregnancies** have higher than the mean **Glucose** level?\n",
        "3. How many patients have:\n",
        "  - greater than median **Blood Pressure**\n",
        "  - less than median **Blood Pressure**\n"
      ],
      "metadata": {
        "id": "ozBq-9q4nVaU"
      }
    }
  ]
}